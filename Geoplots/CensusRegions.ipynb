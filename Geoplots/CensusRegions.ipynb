#import CSV data of PFI
import io
import pandas as pd

sheet_id = "11rno0SjsOyV1JlevH3q40UMm1s5e6m7g"
sheet_name = "curated_2019-required"

url = f"https://docs.google.com/spreadsheets/d/{sheet_id}/gviz/tq?tqx=out:csv&sheet={sheet_name}"

df_url = pd.read_csv(url)

#Plot of Census Regions
west = ['California','Oregon','Washington','Nevada','Arizona','Utah','Colorado','New Mexico','Wyoming','Montana','Idaho']
midwest = ['North Dakota', 'South Dakota','Nebraska','Kansas','Minnesota','Iowa','Missouri','Wisconsin','Illinois','Indiana','Michigan','Ohio']
south = ['Texas','Oklahoma','Arkansas','Louisiana','Mississippi','Tennessee','Kentucky','Alabama','Georgia','Florida','South Carolina','North Carolina',
         'Delaware','Virginia','West Virginia','Maryland'] #needs DC?
northeast = ['Pennsylvania','New York','Vermont','New Hampshire','Maine','Massachusetts','Connecticut','Rhode Island','New Jersey']
fig, ax = plt.subplots(figsize =(10,10))
for n in west:
  contiguous_usa[contiguous_usa.state == f'{n}'].plot(color = 'blue', ax=ax, edgecolor='y',linewidth=2)
for n in midwest:
  contiguous_usa[contiguous_usa.state == f'{n}'].plot(color = 'purple', ax=ax, edgecolor='y',linewidth=2)
for n in south:
  contiguous_usa[contiguous_usa.state == f'{n}'].plot(color = 'red', ax=ax, edgecolor='y',linewidth=2)
for n in northeast:
  contiguous_usa[contiguous_usa.state == f'{n}'].plot(color = 'green', ax=ax, edgecolor='y',linewidth=2)
