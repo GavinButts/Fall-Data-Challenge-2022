{
  "nbformat": 4,
  "nbformat_minor": 0,
  "metadata": {
    "colab": {
      "provenance": [],
      "authorship_tag": "ABX9TyOKzygGFLmxWB2bMAUgpHaV",
      "include_colab_link": true
    },
    "kernelspec": {
      "name": "python3",
      "display_name": "Python 3"
    },
    "language_info": {
      "name": "python"
    }
  },
  "cells": [
    {
      "cell_type": "markdown",
      "metadata": {
        "id": "view-in-github",
        "colab_type": "text"
      },
      "source": [
        "<a href=\"https://colab.research.google.com/github/GavinButts/Fall-Data-Challenge-2022/blob/main/Code/OneVarCharts/HHPARN19X.ipynb\" target=\"_parent\"><img src=\"https://colab.research.google.com/assets/colab-badge.svg\" alt=\"Open In Colab\"/></a>"
      ]
    },
    {
      "cell_type": "code",
      "execution_count": 1,
      "metadata": {
        "id": "fH04143X7OW_"
      },
      "outputs": [],
      "source": [
        "import pandas as pd\n",
        "import matplotlib as plt\n",
        "import seaborn as sns"
      ]
    },
    {
      "cell_type": "code",
      "source": [
        "#Question: Parental structure of household\n",
        "#Legend:  1 <- Mother (birth, adoptive, step, foster, or female partner of parent) and father\n",
        "#              (birth, adoptive, step, foster, or male partner of parent), or two same-sex parents\n",
        "#Legend:  2 <- Mother (birth, adoptive, step, or foster) only\n",
        "#Legend:  3 <- Father (birth, adoptive, step, or foster) only\n",
        "#Legend:  4 <- Nonparent Guardians\n",
        "\n",
        "\n",
        "\n",
        "csv = pd.read_csv('CuratedData.csv')\n",
        "HHPARN19X = []\n",
        "for element in csv[\"HHPARN19X\"]:\n",
        "    if element != -1:\n",
        "      HHPARN19X.append(element)\n",
        "\n",
        "        \n",
        "res = sns.countplot(x=HHPARN19X, palette=\"pastel\")"
      ],
      "metadata": {
        "colab": {
          "base_uri": "https://localhost:8080/",
          "height": 265
        },
        "id": "HtEZ1Bhf7Reb",
        "outputId": "2eb4c9c6-9497-44f2-e53c-f1960dea1a6b"
      },
      "execution_count": 4,
      "outputs": [
        {
          "output_type": "display_data",
          "data": {
            "text/plain": [
              "<Figure size 432x288 with 1 Axes>"
            ],
            "image/png": "[encoded data removed]"
          },
          "metadata": {
            "needs_background": "light"
          }
        }
      ]
    }
  ]
}