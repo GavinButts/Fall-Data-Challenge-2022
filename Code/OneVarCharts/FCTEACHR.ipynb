{
  "nbformat": 4,
  "nbformat_minor": 0,
  "metadata": {
    "colab": {
      "provenance": [],
      "authorship_tag": "ABX9TyMHah7xaCNT1w7kpADJkQO/",
      "include_colab_link": true
    },
    "kernelspec": {
      "name": "python3",
      "display_name": "Python 3"
    },
    "language_info": {
      "name": "python"
    }
  },
  "cells": [
    {
      "cell_type": "markdown",
      "metadata": {
        "id": "view-in-github",
        "colab_type": "text"
      },
      "source": [
        "<a href=\"https://colab.research.google.com/github/GavinButts/Fall-Data-Challenge-2022/blob/main/Code/OneVarCharts/FCTEACHR.ipynb\" target=\"_parent\"><img src=\"https://colab.research.google.com/assets/colab-badge.svg\" alt=\"Open In Colab\"/></a>"
      ]
    },
    {
      "cell_type": "code",
      "execution_count": 1,
      "metadata": {
        "id": "CQ2sT7zr2Ze6"
      },
      "outputs": [],
      "source": [
        "import pandas as pd\n",
        "import matplotlib as plt\n",
        "import seaborn as sns"
      ]
    },
    {
      "cell_type": "code",
      "source": [
        "#Question: How satisfied or dissatisfied are you with each of the following: \n",
        "#            b. The teachers this child has this year?\n",
        "#Legend:  1 <- Very satisfied\n",
        "#Legend:  2 <- Somewhat satisfied\n",
        "#Legend:  3 <- Somewhat dissatisfied\n",
        "#Legend:  4 <- Very dissatisfied\n",
        "\n",
        "csv = pd.read_csv('CuratedData.csv')\n",
        "FCTEACHR = []\n",
        "for element in csv[\"FCTEACHR\"]:\n",
        "    if element != -1:\n",
        "        FCTEACHR.append(element)\n",
        "res = sns.countplot(x=FCTEACHR, palette=\"pastel\")"
      ],
      "metadata": {
        "id": "kUaVG3RE2bYY",
        "outputId": "652199aa-25e0-4134-d879-91080cf120c5",
        "colab": {
          "base_uri": "https://localhost:8080/",
          "height": 265
        }
      },
      "execution_count": 3,
      "outputs": [
        {
          "output_type": "display_data",
          "data": {
            "text/plain": [
              "<Figure size 432x288 with 1 Axes>"
            ],
            "image/png": "[encoded data removed]"
          },
          "metadata": {
            "needs_background": "light"
          }
        }
      ]
    }
  ]
}