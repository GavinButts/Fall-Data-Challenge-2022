{
  "nbformat": 4,
  "nbformat_minor": 0,
  "metadata": {
    "colab": {
      "provenance": [],
      "authorship_tag": "ABX9TyNOdUpQkzzEB3xSBD+OCmFs",
      "include_colab_link": true
    },
    "kernelspec": {
      "name": "python3",
      "display_name": "Python 3"
    },
    "language_info": {
      "name": "python"
    }
  },
  "cells": [
    {
      "cell_type": "markdown",
      "metadata": {
        "id": "view-in-github",
        "colab_type": "text"
      },
      "source": [
        "<a href=\"https://colab.research.google.com/github/GavinButts/Fall-Data-Challenge-2022/blob/main/Code/OneVarCharts/P1REL.ipynb\" target=\"_parent\"><img src=\"https://colab.research.google.com/assets/colab-badge.svg\" alt=\"Open In Colab\"/></a>"
      ]
    },
    {
      "cell_type": "code",
      "execution_count": 1,
      "metadata": {
        "id": "r1nTPsjUTOZw"
      },
      "outputs": [],
      "source": [
        "import pandas as pd\n",
        "import matplotlib as plt\n",
        "import seaborn as sns"
      ]
    },
    {
      "cell_type": "code",
      "source": [
        "#Question: Is this parent or guardian the child’s...\n",
        "#Legend:  1 <- Biological parent\n",
        "#Legend:  1 <- Adoptive parent\n",
        "#Legend:  1 <- Stepparent\n",
        "#Legend:  1 <- Foster parent\n",
        "#Legend:  1 <- Grandparent\n",
        "#Legend:  1 <- Other guardian\n",
        "\n",
        "\n",
        "csv = pd.read_csv('CuratedData.csv')\n",
        "P1REL = []\n",
        "for element in csv[\"P1REL\"]:\n",
        "    if element != -1:\n",
        "       P1REL.append(element)\n",
        "        \n",
        "res = sns.countplot(x=P1REL, palette=\"pastel\")"
      ],
      "metadata": {
        "colab": {
          "base_uri": "https://localhost:8080/",
          "height": 265
        },
        "id": "KlEQWEreTT9n",
        "outputId": "e8050832-f8e4-4423-c871-a372e3ed3970"
      },
      "execution_count": 3,
      "outputs": [
        {
          "output_type": "display_data",
          "data": {
            "text/plain": [
              "<Figure size 432x288 with 1 Axes>"
            ],
            "image/png": "[encoded data removed]"
          },
          "metadata": {
            "needs_background": "light"
          }
        }
      ]
    }
  ]
}