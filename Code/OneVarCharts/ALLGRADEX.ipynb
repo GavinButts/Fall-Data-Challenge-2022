{
  "nbformat": 4,
  "nbformat_minor": 0,
  "metadata": {
    "colab": {
      "provenance": [],
      "mount_file_id": "1laPt96v_NqLTrYskZY3LjFbn4yAJ9okw",
      "authorship_tag": "ABX9TyM0YebUuqY08VsU6LuueRqh",
      "include_colab_link": true
    },
    "kernelspec": {
      "name": "python3",
      "display_name": "Python 3"
    },
    "language_info": {
      "name": "python"
    }
  },
  "cells": [
    {
      "cell_type": "markdown",
      "metadata": {
        "id": "view-in-github",
        "colab_type": "text"
      },
      "source": [
        "<a href=\"https://colab.research.google.com/github/GavinButts/Fall-Data-Challenge-2022/blob/main/Code/OneVarCharts/ALLGRADEX.ipynb\" target=\"_parent\"><img src=\"https://colab.research.google.com/assets/colab-badge.svg\" alt=\"Open In Colab\"/></a>"
      ]
    },
    {
      "cell_type": "code",
      "execution_count": 1,
      "metadata": {
        "id": "ifO4XzeW4cqa"
      },
      "outputs": [],
      "source": [
        "import pandas as pd\n",
        "import matplotlib as plt\n",
        "import seaborn as sns"
      ]
    },
    {
      "cell_type": "code",
      "source": [
        "#What is this child’s current grade, grade equivalent, or year of school?\n",
        "#Label: -1    -> full-time kindergarden\n",
        "#Label: 0     -> part-time kindergarden\n",
        "#Label: 1-12  -> grade\n",
        "\n",
        "csv = pd.read_csv('CuratedData.csv')\n",
        "ALLGRADEX = []\n",
        "\n",
        "for element in csv[\"ALLGRADEX\"]:\n",
        "    ALLGRADEX.append(element-3)\n",
        "\n",
        "ALLGRADEX.sort()\n",
        "res = sns.countplot(x=ALLGRADEX, palette=\"pastel\")"
      ],
      "metadata": {
        "colab": {
          "base_uri": "https://localhost:8080/",
          "height": 265
        },
        "id": "HURBndMj5IV0",
        "outputId": "33d8d8d5-b6fd-4133-c9b7-b8926c104ae5"
      },
      "execution_count": 7,
      "outputs": [
        {
          "output_type": "display_data",
          "data": {
            "text/plain": [
              "<Figure size 432x288 with 1 Axes>"
            ],
            "image/png": "[encoded data removed]"
          },
          "metadata": {
            "needs_background": "light"
          }
        }
      ]
    }
  ]
}