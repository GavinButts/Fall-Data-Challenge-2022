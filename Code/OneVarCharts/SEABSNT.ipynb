{
  "nbformat": 4,
  "nbformat_minor": 0,
  "metadata": {
    "colab": {
      "provenance": [],
      "authorship_tag": "ABX9TyOm+UZwkOfOHm5BCEyDzI4S",
      "include_colab_link": true
    },
    "kernelspec": {
      "name": "python3",
      "display_name": "Python 3"
    },
    "language_info": {
      "name": "python"
    }
  },
  "cells": [
    {
      "cell_type": "markdown",
      "metadata": {
        "id": "view-in-github",
        "colab_type": "text"
      },
      "source": [
        "<a href=\"https://colab.research.google.com/github/GavinButts/Fall-Data-Challenge-2022/blob/main/Code/OneVarCharts/SEABSNT.ipynb\" target=\"_parent\"><img src=\"https://colab.research.google.com/assets/colab-badge.svg\" alt=\"Open In Colab\"/></a>"
      ]
    },
    {
      "cell_type": "code",
      "execution_count": 1,
      "metadata": {
        "id": "Cuma2e1llaYV"
      },
      "outputs": [],
      "source": [
        "import pandas as pd\n",
        "import matplotlib as plt\n",
        "import seaborn as sns"
      ]
    },
    {
      "cell_type": "code",
      "source": [
        "#Question: Since the beginning of this school year, how many days has this child been absent from school?\n",
        "#Legend:  1 <- 0 to 5 days\n",
        "#Legend:  2 <- 6 to 10 days\n",
        "#Legend:  3 <- 11 to 20 days\n",
        "#Legend:  4 <- More than 2 days (I'm assuming 2 is a typo)\n",
        "\n",
        "csv = pd.read_csv('CuratedData.csv')\n",
        "SEABSNT = []\n",
        "for element in csv[\"SEABSNT\"]:\n",
        "    if element != -1:\n",
        "        SEABSNT.append(element)\n",
        "res = sns.countplot(x=SEABSNT, palette=\"pastel\")"
      ],
      "metadata": {
        "colab": {
          "base_uri": "https://localhost:8080/",
          "height": 265
        },
        "id": "4M1RQqvPld4v",
        "outputId": "abedda87-bbbc-4d56-b4ee-246b57d85b60"
      },
      "execution_count": 2,
      "outputs": [
        {
          "output_type": "display_data",
          "data": {
            "text/plain": [
              "<Figure size 432x288 with 1 Axes>"
            ],
            "image/png": "[encoded data removed]"
          },
          "metadata": {
            "needs_background": "light"
          }
        }
      ]
    }
  ]
}