{
  "nbformat": 4,
  "nbformat_minor": 0,
  "metadata": {
    "colab": {
      "provenance": [],
      "authorship_tag": "ABX9TyMvwMbPjqLal7NVAOaY1MT2",
      "include_colab_link": true
    },
    "kernelspec": {
      "name": "python3",
      "display_name": "Python 3"
    },
    "language_info": {
      "name": "python"
    }
  },
  "cells": [
    {
      "cell_type": "markdown",
      "metadata": {
        "id": "view-in-github",
        "colab_type": "text"
      },
      "source": [
        "<a href=\"https://colab.research.google.com/github/GavinButts/Fall-Data-Challenge-2022/blob/main/Code/OneVarCharts/FSSPORTX.ipynb\" target=\"_parent\"><img src=\"https://colab.research.google.com/assets/colab-badge.svg\" alt=\"Open In Colab\"/></a>"
      ]
    },
    {
      "cell_type": "code",
      "execution_count": 1,
      "metadata": {
        "id": "_kfNVn3vtBz4"
      },
      "outputs": [],
      "source": [
        "import pandas as pd\n",
        "import matplotlib as plt\n",
        "import seaborn as sns"
      ]
    },
    {
      "cell_type": "code",
      "source": [
        "#Question: Since the beginning of this school year, has any adult in this child’s household done any of the following things at this child’s school? \n",
        "#       a. Attended a school or class event, such as a play, dance, sports event, or science fair\n",
        "\n",
        "csv = pd.read_csv('CuratedData.csv')\n",
        "FSSPORTX = []\n",
        "for element in csv[\"FSSPORTX\"]:\n",
        "    if element != -1:\n",
        "        if element == 1:\n",
        "            FSSPORTX.append(\"Yes\")\n",
        "        else:\n",
        "            FSSPORTX.append(\"No\")\n",
        "res = sns.countplot(x=FSSPORTX, palette=\"pastel\")"
      ],
      "metadata": {
        "colab": {
          "base_uri": "https://localhost:8080/",
          "height": 265
        },
        "id": "f8z99u77tGJg",
        "outputId": "c742027d-c090-4772-da30-2826301ffd68"
      },
      "execution_count": 3,
      "outputs": [
        {
          "output_type": "display_data",
          "data": {
            "text/plain": [
              "<Figure size 432x288 with 1 Axes>"
            ],
            "image/png": "[encoded data removed]"
          },
          "metadata": {
            "needs_background": "light"
          }
        }
      ]
    }
  ]
}