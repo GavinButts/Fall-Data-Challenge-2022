{
  "nbformat": 4,
  "nbformat_minor": 0,
  "metadata": {
    "colab": {
      "provenance": [],
      "authorship_tag": "ABX9TyP8Ib03UFStQgh6yAMAFCyg",
      "include_colab_link": true
    },
    "kernelspec": {
      "name": "python3",
      "display_name": "Python 3"
    },
    "language_info": {
      "name": "python"
    }
  },
  "cells": [
    {
      "cell_type": "markdown",
      "metadata": {
        "id": "view-in-github",
        "colab_type": "text"
      },
      "source": [
        "<a href=\"https://colab.research.google.com/github/GavinButts/Fall-Data-Challenge-2022/blob/main/Code/OneVarCharts/CHLDNT.ipynb\" target=\"_parent\"><img src=\"https://colab.research.google.com/assets/colab-badge.svg\" alt=\"Open In Colab\"/></a>"
      ]
    },
    {
      "cell_type": "code",
      "execution_count": 1,
      "metadata": {
        "id": "LWUDUSzO5lMC"
      },
      "outputs": [],
      "source": [
        "import pandas as pd\n",
        "import matplotlib as plt\n",
        "import seaborn as sns"
      ]
    },
    {
      "cell_type": "code",
      "source": [
        "#Question: How often does this child use the Internet at home for learning activities?\n",
        "#Legend:  1  <- Every day\n",
        "#Legend:  2  <- A few times a week\n",
        "#Legend:  3  <- A few times a month\n",
        "#Legend:  4  <- A few times a year\n",
        "#Legend:  5  <- Never\n",
        "\n",
        "csv = pd.read_csv('CuratedData.csv')\n",
        "CHLDNT = []\n",
        "for element in csv[\"CHLDNT\"]:\n",
        "    if element != -1:\n",
        "       CHLDNT.append(element)\n",
        "        \n",
        "res = sns.countplot(x=CHLDNT, palette=\"pastel\")"
      ],
      "metadata": {
        "colab": {
          "base_uri": "https://localhost:8080/",
          "height": 265
        },
        "id": "TeJVi4E35sbZ",
        "outputId": "c0e00c80-0531-4738-e944-7b73959a1bf1"
      },
      "execution_count": 3,
      "outputs": [
        {
          "output_type": "display_data",
          "data": {
            "text/plain": [
              "<Figure size 432x288 with 1 Axes>"
            ],
            "image/png": "[encoded data removed]"
          },
          "metadata": {
            "needs_background": "light"
          }
        }
      ]
    }
  ]
}