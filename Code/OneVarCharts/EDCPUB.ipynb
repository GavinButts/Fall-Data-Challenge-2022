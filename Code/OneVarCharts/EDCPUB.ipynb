{
  "nbformat": 4,
  "nbformat_minor": 0,
  "metadata": {
    "colab": {
      "provenance": [],
      "authorship_tag": "ABX9TyOK7uXCH725pUc5W0T05RtO",
      "include_colab_link": true
    },
    "kernelspec": {
      "name": "python3",
      "display_name": "Python 3"
    },
    "language_info": {
      "name": "python"
    }
  },
  "cells": [
    {
      "cell_type": "markdown",
      "metadata": {
        "id": "view-in-github",
        "colab_type": "text"
      },
      "source": [
        "<a href=\"https://colab.research.google.com/github/GavinButts/Fall-Data-Challenge-2022/blob/main/Code/OneVarCharts/EDCPUB.ipynb\" target=\"_parent\"><img src=\"https://colab.research.google.com/assets/colab-badge.svg\" alt=\"Open In Colab\"/></a>"
      ]
    },
    {
      "cell_type": "code",
      "execution_count": 2,
      "metadata": {
        "id": "E1mwfEwv8xYD"
      },
      "outputs": [],
      "source": [
        "import pandas as pd\n",
        "import matplotlib as plt\n",
        "import seaborn as sns"
      ]
    },
    {
      "cell_type": "code",
      "source": [
        "#What type of school does this child attend? \n",
        "#       a. A public school located in a physical building, including charter school\n",
        "\n",
        "csv = pd.read_csv('CuratedData.csv')\n",
        "EDCPUB = []\n",
        "for element in csv[\"EDCPUB\"]:\n",
        "    if element != -1:\n",
        "        if element == 1:\n",
        "            EDCPUB.append(\"Yes\")\n",
        "        if element == 2:\n",
        "            EDCPUB.append(\"No\")\n",
        "res = sns.countplot(x=EDCPUB, palette=\"pastel\")"
      ],
      "metadata": {
        "colab": {
          "base_uri": "https://localhost:8080/",
          "height": 265
        },
        "id": "DSrhCjzD8yAf",
        "outputId": "1f2694b2-f1d9-4eee-e0a2-c45594bf28d7"
      },
      "execution_count": 4,
      "outputs": [
        {
          "output_type": "display_data",
          "data": {
            "text/plain": [
              "<Figure size 432x288 with 1 Axes>"
            ],
            "image/png": "[encoded data removed]"
          },
          "metadata": {
            "needs_background": "light"
          }
        }
      ]
    }
  ]
}