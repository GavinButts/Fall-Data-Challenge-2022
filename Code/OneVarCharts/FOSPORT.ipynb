{
  "nbformat": 4,
  "nbformat_minor": 0,
  "metadata": {
    "colab": {
      "provenance": [],
      "authorship_tag": "ABX9TyPcrN31DX5B0JmHFfJdb7wu",
      "include_colab_link": true
    },
    "kernelspec": {
      "name": "python3",
      "display_name": "Python 3"
    },
    "language_info": {
      "name": "python"
    }
  },
  "cells": [
    {
      "cell_type": "markdown",
      "metadata": {
        "id": "view-in-github",
        "colab_type": "text"
      },
      "source": [
        "<a href=\"https://colab.research.google.com/github/GavinButts/Fall-Data-Challenge-2022/blob/main/Code/OneVarCharts/FOSPORT.ipynb\" target=\"_parent\"><img src=\"https://colab.research.google.com/assets/colab-badge.svg\" alt=\"Open In Colab\"/></a>"
      ]
    },
    {
      "cell_type": "code",
      "execution_count": 1,
      "metadata": {
        "id": "gNnFoFP0rXFN"
      },
      "outputs": [],
      "source": [
        "import pandas as pd\n",
        "import matplotlib as plt\n",
        "import seaborn as sns"
      ]
    },
    {
      "cell_type": "code",
      "source": [
        "#Question: In the past week, has anyone in your family done the following things with this child? \n",
        "#             e. Played sports, active games, or exercised together\n",
        "\n",
        "\n",
        "\n",
        "csv = pd.read_csv('CuratedData.csv')\n",
        "FOSPORT = []\n",
        "for element in csv[\"FOSPORT\"]:\n",
        "    if element != -1:\n",
        "        if element == 1:\n",
        "            FOSPORT.append(\"Yes\")\n",
        "        if element == 2:\n",
        "            FOSPORT.append(\"No\")\n",
        "        \n",
        "res = sns.countplot(x=FOSPORT, palette=\"pastel\")"
      ],
      "metadata": {
        "colab": {
          "base_uri": "https://localhost:8080/",
          "height": 265
        },
        "id": "w0Dp9OwIrYGN",
        "outputId": "d9dc64f8-b530-4fcf-c7ea-8d59e1578dbc"
      },
      "execution_count": 2,
      "outputs": [
        {
          "output_type": "display_data",
          "data": {
            "text/plain": [
              "<Figure size 432x288 with 1 Axes>"
            ],
            "image/png": "[encoded data removed]"
          },
          "metadata": {
            "needs_background": "light"
          }
        }
      ]
    }
  ]
}