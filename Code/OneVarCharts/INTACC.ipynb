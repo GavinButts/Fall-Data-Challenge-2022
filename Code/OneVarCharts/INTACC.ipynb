{
  "nbformat": 4,
  "nbformat_minor": 0,
  "metadata": {
    "colab": {
      "provenance": [],
      "authorship_tag": "ABX9TyP82gMsCVDyy1A8KZIJlKej",
      "include_colab_link": true
    },
    "kernelspec": {
      "name": "python3",
      "display_name": "Python 3"
    },
    "language_info": {
      "name": "python"
    }
  },
  "cells": [
    {
      "cell_type": "markdown",
      "metadata": {
        "id": "view-in-github",
        "colab_type": "text"
      },
      "source": [
        "<a href=\"https://colab.research.google.com/github/GavinButts/Fall-Data-Challenge-2022/blob/main/Code/OneVarCharts/INTACC.ipynb\" target=\"_parent\"><img src=\"https://colab.research.google.com/assets/colab-badge.svg\" alt=\"Open In Colab\"/></a>"
      ]
    },
    {
      "cell_type": "code",
      "execution_count": 1,
      "metadata": {
        "id": "AKxPMbbr9mbF"
      },
      "outputs": [],
      "source": [
        "import pandas as pd\n",
        "import matplotlib as plt\n",
        "import seaborn as sns"
      ]
    },
    {
      "cell_type": "code",
      "source": [
        "#Question: Household has internet access\n",
        "#Legend:  1 <- Yes, at home and on a cell phone\n",
        "#Legend:  2 <- Yes, at home only\n",
        "#Legend:  3 <- Yes, on a cell phone only\n",
        "#Legend:  4 <- No\n",
        "\n",
        "\n",
        "csv = pd.read_csv('CuratedData.csv')\n",
        "INTACC = []\n",
        "for element in csv[\"INTACC\"]:\n",
        "    if element != -1:\n",
        "      INTACC.append(element)\n",
        "\n",
        "        \n",
        "res = sns.countplot(x=INTACC, palette=\"pastel\")"
      ],
      "metadata": {
        "colab": {
          "base_uri": "https://localhost:8080/",
          "height": 265
        },
        "id": "EzR_Gj6q9nk0",
        "outputId": "c7ab6206-1445-408d-e5ff-a791c9dc7ca7"
      },
      "execution_count": 2,
      "outputs": [
        {
          "output_type": "display_data",
          "data": {
            "text/plain": [
              "<Figure size 432x288 with 1 Axes>"
            ],
            "image/png": "[encoded data removed]"
          },
          "metadata": {
            "needs_background": "light"
          }
        }
      ]
    }
  ]
}