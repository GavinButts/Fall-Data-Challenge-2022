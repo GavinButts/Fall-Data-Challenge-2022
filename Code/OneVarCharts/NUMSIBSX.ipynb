{
  "nbformat": 4,
  "nbformat_minor": 0,
  "metadata": {
    "colab": {
      "provenance": [],
      "authorship_tag": "ABX9TyOHjgBB1fWOz035+14A3Ymm",
      "include_colab_link": true
    },
    "kernelspec": {
      "name": "python3",
      "display_name": "Python 3"
    },
    "language_info": {
      "name": "python"
    }
  },
  "cells": [
    {
      "cell_type": "markdown",
      "metadata": {
        "id": "view-in-github",
        "colab_type": "text"
      },
      "source": [
        "<a href=\"https://colab.research.google.com/github/GavinButts/Fall-Data-Challenge-2022/blob/main/Code/OneVarCharts/NUMSIBSX.ipynb\" target=\"_parent\"><img src=\"https://colab.research.google.com/assets/colab-badge.svg\" alt=\"Open In Colab\"/></a>"
      ]
    },
    {
      "cell_type": "code",
      "execution_count": 1,
      "metadata": {
        "id": "CDzLSkPV8NYQ"
      },
      "outputs": [],
      "source": [
        "import pandas as pd\n",
        "import matplotlib as plt\n",
        "import seaborn as sns"
      ]
    },
    {
      "cell_type": "code",
      "source": [
        "#Question: Number of child’s siblings\n",
        "#Legend:  Number of siblings\n",
        "\n",
        "\n",
        "csv = pd.read_csv('CuratedData.csv')\n",
        "NUMSIBSX = []\n",
        "for element in csv[\"NUMSIBSX\"]:\n",
        "    if element != -1:\n",
        "      NUMSIBSX.append(element)\n",
        "\n",
        "        \n",
        "res = sns.countplot(x=NUMSIBSX, palette=\"pastel\")"
      ],
      "metadata": {
        "colab": {
          "base_uri": "https://localhost:8080/",
          "height": 265
        },
        "id": "OKwKIxzv8S5e",
        "outputId": "fe9d693c-818a-45ca-94fe-b6caa876ed39"
      },
      "execution_count": 2,
      "outputs": [
        {
          "output_type": "display_data",
          "data": {
            "text/plain": [
              "<Figure size 432x288 with 1 Axes>"
            ],
            "image/png": "[encoded data removed]"
          },
          "metadata": {
            "needs_background": "light"
          }
        }
      ]
    }
  ]
}