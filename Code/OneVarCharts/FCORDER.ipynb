{
  "nbformat": 4,
  "nbformat_minor": 0,
  "metadata": {
    "colab": {
      "provenance": [],
      "authorship_tag": "ABX9TyP+vuSp6PViOi7kjLa04UKn",
      "include_colab_link": true
    },
    "kernelspec": {
      "name": "python3",
      "display_name": "Python 3"
    },
    "language_info": {
      "name": "python"
    }
  },
  "cells": [
    {
      "cell_type": "markdown",
      "metadata": {
        "id": "view-in-github",
        "colab_type": "text"
      },
      "source": [
        "<a href=\"https://colab.research.google.com/github/GavinButts/Fall-Data-Challenge-2022/blob/main/Code/OneVarCharts/FCORDER.ipynb\" target=\"_parent\"><img src=\"https://colab.research.google.com/assets/colab-badge.svg\" alt=\"Open In Colab\"/></a>"
      ]
    },
    {
      "cell_type": "code",
      "execution_count": 1,
      "metadata": {
        "id": "D6uVeIvd2sUk"
      },
      "outputs": [],
      "source": [
        "import pandas as pd\n",
        "import matplotlib as plt\n",
        "import seaborn as sns"
      ]
    },
    {
      "cell_type": "code",
      "source": [
        "#Question: How satisfied or dissatisfied are you with each of the following: \n",
        "#            d. The order and discipline at the school?\n",
        "#Legend:  1 <- Very satisfied\n",
        "#Legend:  2 <- Somewhat satisfied\n",
        "#Legend:  3 <- Somewhat dissatisfied\n",
        "#Legend:  4 <- Very dissatisfied\n",
        "\n",
        "csv = pd.read_csv('CuratedData.csv')\n",
        "FCORDER = []\n",
        "for element in csv[\"FCORDER\"]:\n",
        "    if element != -1:\n",
        "        FCORDER.append(element)\n",
        "res = sns.countplot(x=FCORDER, palette=\"pastel\")"
      ],
      "metadata": {
        "colab": {
          "base_uri": "https://localhost:8080/",
          "height": 265
        },
        "id": "1DceORnJ2tMR",
        "outputId": "0e829a61-622e-45ae-e145-df1c180b8a19"
      },
      "execution_count": 2,
      "outputs": [
        {
          "output_type": "display_data",
          "data": {
            "text/plain": [
              "<Figure size 432x288 with 1 Axes>"
            ],
            "image/png": "[encoded data removed]"
          },
          "metadata": {
            "needs_background": "light"
          }
        }
      ]
    }
  ]
}