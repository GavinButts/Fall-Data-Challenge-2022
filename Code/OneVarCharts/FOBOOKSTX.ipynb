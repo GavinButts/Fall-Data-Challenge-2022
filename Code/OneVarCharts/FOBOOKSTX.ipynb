{
  "nbformat": 4,
  "nbformat_minor": 0,
  "metadata": {
    "colab": {
      "provenance": [],
      "authorship_tag": "ABX9TyNOGKG4+DZYCCMu8M0QpZF/",
      "include_colab_link": true
    },
    "kernelspec": {
      "name": "python3",
      "display_name": "Python 3"
    },
    "language_info": {
      "name": "python"
    }
  },
  "cells": [
    {
      "cell_type": "markdown",
      "metadata": {
        "id": "view-in-github",
        "colab_type": "text"
      },
      "source": [
        "<a href=\"https://colab.research.google.com/github/GavinButts/Fall-Data-Challenge-2022/blob/main/Code/OneVarCharts/FOBOOKSTX.ipynb\" target=\"_parent\"><img src=\"https://colab.research.google.com/assets/colab-badge.svg\" alt=\"Open In Colab\"/></a>"
      ]
    },
    {
      "cell_type": "code",
      "execution_count": 1,
      "metadata": {
        "id": "nDjsqI2Jtp2I"
      },
      "outputs": [],
      "source": [
        "import pandas as pd\n",
        "import matplotlib as plt\n",
        "import seaborn as sns"
      ]
    },
    {
      "cell_type": "code",
      "source": [
        "#Question: In the past month, has anyone in your family done the following things with this child? \n",
        "#             b. Visited a bookstore\n",
        "\n",
        "csv = pd.read_csv('CuratedData.csv')\n",
        "FOBOOKSTX = []\n",
        "for element in csv[\"FOBOOKSTX\"]:\n",
        "    if element != -1:\n",
        "        if element == 1:\n",
        "            FOBOOKSTX.append(\"Yes\")\n",
        "        if element == 2:\n",
        "            FOBOOKSTX.append(\"No\")\n",
        "        \n",
        "res = sns.countplot(x=FOBOOKSTX, palette=\"pastel\")"
      ],
      "metadata": {
        "colab": {
          "base_uri": "https://localhost:8080/",
          "height": 265
        },
        "id": "JWHLqItatrzb",
        "outputId": "b144ad95-0c42-4132-ecb2-65723385ad5a"
      },
      "execution_count": 2,
      "outputs": [
        {
          "output_type": "display_data",
          "data": {
            "text/plain": [
              "<Figure size 432x288 with 1 Axes>"
            ],
            "image/png": "[encoded data removed]"
          },
          "metadata": {
            "needs_background": "light"
          }
        }
      ]
    }
  ]
}