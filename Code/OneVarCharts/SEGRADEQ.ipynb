{
  "nbformat": 4,
  "nbformat_minor": 0,
  "metadata": {
    "colab": {
      "provenance": [],
      "authorship_tag": "ABX9TyNs/nQyKvSsCo4Lxm/f9K+u",
      "include_colab_link": true
    },
    "kernelspec": {
      "name": "python3",
      "display_name": "Python 3"
    },
    "language_info": {
      "name": "python"
    }
  },
  "cells": [
    {
      "cell_type": "markdown",
      "metadata": {
        "id": "view-in-github",
        "colab_type": "text"
      },
      "source": [
        "<a href=\"https://colab.research.google.com/github/GavinButts/Fall-Data-Challenge-2022/blob/main/Code/OneVarCharts/SEGRADEQ.ipynb\" target=\"_parent\"><img src=\"https://colab.research.google.com/assets/colab-badge.svg\" alt=\"Open In Colab\"/></a>"
      ]
    },
    {
      "cell_type": "code",
      "execution_count": null,
      "metadata": {
        "id": "n-94oarfs1oY"
      },
      "outputs": [],
      "source": [
        "import pandas as pd\n",
        "import matplotlib as plt\n",
        "import seaborn as sns"
      ]
    },
    {
      "cell_type": "code",
      "source": [
        "#Question: How would you describe his or her work at school?\n",
        "#Legend: Number of online courses\n",
        "\n",
        "csv = pd.read_csv('CuratedData.csv')\n",
        "SEGRADEQ = []\n",
        "for element in csv[\"SEGRADEQ\"]:\n",
        "    if element != -1:\n",
        "        if element == 1:\n",
        "            SEGRADEQ.append(\"Excellent\")\n",
        "        if element == 2:\n",
        "            SEGRADEQ.append(\"Above Average\")\n",
        "        if element == 3:\n",
        "            SEGRADEQ.append(\"Average\")\n",
        "        if element == 4:\n",
        "            SEGRADEQ.append(\"Below Average\")\n",
        "        if element == 5:\n",
        "            SEGRADEQ.append(\"Failing\")\n",
        "        \n",
        "res = sns.countplot(x=SEGRADEQ, palette=\"pastel\")"
      ],
      "metadata": {
        "colab": {
          "base_uri": "https://localhost:8080/",
          "height": 265
        },
        "id": "tsfEayTLs5jN",
        "outputId": "99f27b39-ed65-42bb-d618-10e8f451beb3"
      },
      "execution_count": 4,
      "outputs": [
        {
          "output_type": "display_data",
          "data": {
            "text/plain": [
              "<Figure size 432x288 with 1 Axes>"
            ],
            "image/png": "[encoded data removed]"
          },
          "metadata": {
            "needs_background": "light"
          }
        }
      ]
    }
  ]
}