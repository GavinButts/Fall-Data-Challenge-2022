{
  "nbformat": 4,
  "nbformat_minor": 0,
  "metadata": {
    "colab": {
      "provenance": [],
      "authorship_tag": "ABX9TyNkVXPkicMcpyo/+O1NRi4k",
      "include_colab_link": true
    },
    "kernelspec": {
      "name": "python3",
      "display_name": "Python 3"
    },
    "language_info": {
      "name": "python"
    }
  },
  "cells": [
    {
      "cell_type": "markdown",
      "metadata": {
        "id": "view-in-github",
        "colab_type": "text"
      },
      "source": [
        "<a href=\"https://colab.research.google.com/github/GavinButts/Fall-Data-Challenge-2022/blob/main/Code/OneVarCharts/TTLHHINC.ipynb\" target=\"_parent\"><img src=\"https://colab.research.google.com/assets/colab-badge.svg\" alt=\"Open In Colab\"/></a>"
      ]
    },
    {
      "cell_type": "code",
      "execution_count": 1,
      "metadata": {
        "id": "TvCLBE7rl3V2"
      },
      "outputs": [],
      "source": [
        "import pandas as pd\n",
        "import matplotlib as plt\n",
        "import seaborn as sns"
      ]
    },
    {
      "cell_type": "code",
      "source": [
        "#Question: Which category best fits the total income of all persons in your household over the past 12 months?\n",
        "#Legend:  1  <- $0 to $10,000\n",
        "#Legend:  2  <- $10,001 to $20,000\n",
        "#Legend:  3  <- $20,001 to $30,000\n",
        "#Legend:  4  <- $30,001 to $40,000\n",
        "#Legend:  5  <- $40,001 to $50,000\n",
        "#Legend:  6  <- $50,001 to $60,000\n",
        "#Legend:  7  <- $60,001 to $75,000\n",
        "#Legend:  8  <- $75,001 to $100,000\n",
        "#Legend:  9  <- $100,001 to $150,000\n",
        "#Legend:  10 <- $150,001 to $200,000\n",
        "#Legend:  11 <- $200,001 to $250,000\n",
        "#Legend:  12 <- $250,001 or more\n",
        "\n",
        "csv = pd.read_csv('CuratedData.csv')\n",
        "TTLHHINC = []\n",
        "for element in csv[\"TTLHHINC\"]:\n",
        "    if element != -1:\n",
        "       TTLHHINC.append(element)\n",
        "        \n",
        "res = sns.countplot(x=TTLHHINC, palette=\"pastel\")"
      ],
      "metadata": {
        "colab": {
          "base_uri": "https://localhost:8080/",
          "height": 265
        },
        "id": "ii1RxRjnl6hU",
        "outputId": "f261d64b-0fc7-4344-ab66-19d9c490d59a"
      },
      "execution_count": 4,
      "outputs": [
        {
          "output_type": "display_data",
          "data": {
            "text/plain": [
              "<Figure size 432x288 with 1 Axes>"
            ],
            "image/png": "[encoded data removed]"
          },
          "metadata": {
            "needs_background": "light"
          }
        }
      ]
    }
  ]
}