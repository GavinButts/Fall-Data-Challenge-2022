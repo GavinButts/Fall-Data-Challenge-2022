{
  "nbformat": 4,
  "nbformat_minor": 0,
  "metadata": {
    "colab": {
      "provenance": [],
      "authorship_tag": "ABX9TyNM7uvqOR2PsETYdRLz7Ezs",
      "include_colab_link": true
    },
    "kernelspec": {
      "name": "python3",
      "display_name": "Python 3"
    },
    "language_info": {
      "name": "python"
    }
  },
  "cells": [
    {
      "cell_type": "markdown",
      "metadata": {
        "id": "view-in-github",
        "colab_type": "text"
      },
      "source": [
        "<a href=\"https://colab.research.google.com/github/GavinButts/Fall-Data-Challenge-2022/blob/main/Code/OneVarCharts/PARGRADEX.ipynb\" target=\"_parent\"><img src=\"https://colab.research.google.com/assets/colab-badge.svg\" alt=\"Open In Colab\"/></a>"
      ]
    },
    {
      "cell_type": "code",
      "execution_count": 1,
      "metadata": {
        "id": "v875swnP8jPQ"
      },
      "outputs": [],
      "source": [
        "import pandas as pd\n",
        "import matplotlib as plt\n",
        "import seaborn as sns"
      ]
    },
    {
      "cell_type": "code",
      "source": [
        "#Question: Parent/guardian highest education\n",
        "#Legend:  1 <- Less than high school credential\n",
        "#Legend:  2 <- High school graduate or equivalent\n",
        "#Legend:  3 <- Vocational/technical education after high school or some college\n",
        "#Legend:  4 <- College graduate\n",
        "#Legend:  5 <- Graduate or professional school\n",
        "\n",
        "\n",
        "csv = pd.read_csv('CuratedData.csv')\n",
        "PARGRADEX = []\n",
        "for element in csv[\"PARGRADEX\"]:\n",
        "    if element != -1:\n",
        "      PARGRADEX.append(element)\n",
        "\n",
        "        \n",
        "res = sns.countplot(x=PARGRADEX, palette=\"pastel\")"
      ],
      "metadata": {
        "colab": {
          "base_uri": "https://localhost:8080/",
          "height": 265
        },
        "id": "bkAZvFg18rXE",
        "outputId": "9e033b67-57bf-43bf-845d-63aef8180de4"
      },
      "execution_count": 2,
      "outputs": [
        {
          "output_type": "display_data",
          "data": {
            "text/plain": [
              "<Figure size 432x288 with 1 Axes>"
            ],
            "image/png": "[encoded data removed]"
          },
          "metadata": {
            "needs_background": "light"
          }
        }
      ]
    }
  ]
}