{
  "nbformat": 4,
  "nbformat_minor": 0,
  "metadata": {
    "colab": {
      "provenance": [],
      "authorship_tag": "ABX9TyOZXPsVt7HbX42FSrK6OAqb",
      "include_colab_link": true
    },
    "kernelspec": {
      "name": "python3",
      "display_name": "Python 3"
    },
    "language_info": {
      "name": "python"
    }
  },
  "cells": [
    {
      "cell_type": "markdown",
      "metadata": {
        "id": "view-in-github",
        "colab_type": "text"
      },
      "source": [
        "<a href=\"https://colab.research.google.com/github/GavinButts/Fall-Data-Challenge-2022/blob/main/Code/OneVarCharts/P1MRSTA.ipynb\" target=\"_parent\"><img src=\"https://colab.research.google.com/assets/colab-badge.svg\" alt=\"Open In Colab\"/></a>"
      ]
    },
    {
      "cell_type": "code",
      "execution_count": 1,
      "metadata": {
        "id": "XrTqBqYMUz3o"
      },
      "outputs": [],
      "source": [
        "import pandas as pd\n",
        "import matplotlib as plt\n",
        "import seaborn as sns"
      ]
    },
    {
      "cell_type": "code",
      "source": [
        "#Question: Is this parent or guardian male or female?\n",
        "#Legend:  1 <- Now married\n",
        "#Legend:  2 <- Widowed\n",
        "#Legend:  3 <- Divorced\n",
        "#Legend:  4 <- Seperated\n",
        "#Legend:  5 <- Never married\n",
        "\n",
        "\n",
        "csv = pd.read_csv('CuratedData.csv')\n",
        "P1MRSTA = []\n",
        "for element in csv[\"P1MRSTA\"]:\n",
        "    if element != -1:\n",
        "       P1MRSTA.append(element)\n",
        "        \n",
        "res = sns.countplot(x=P1MRSTA, palette=\"pastel\")"
      ],
      "metadata": {
        "colab": {
          "base_uri": "https://localhost:8080/",
          "height": 265
        },
        "id": "YlKhEVhoU4BU",
        "outputId": "48694578-887d-4799-fdbe-4f1b3772a05c"
      },
      "execution_count": 4,
      "outputs": [
        {
          "output_type": "display_data",
          "data": {
            "text/plain": [
              "<Figure size 432x288 with 1 Axes>"
            ],
            "image/png": "[encoded data removed]"
          },
          "metadata": {
            "needs_background": "light"
          }
        }
      ]
    }
  ]
}