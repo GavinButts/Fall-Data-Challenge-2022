{
  "nbformat": 4,
  "nbformat_minor": 0,
  "metadata": {
    "colab": {
      "provenance": [],
      "authorship_tag": "ABX9TyMjwenA9L/Kb64BGC6zjE19",
      "include_colab_link": true
    },
    "kernelspec": {
      "name": "python3",
      "display_name": "Python 3"
    },
    "language_info": {
      "name": "python"
    }
  },
  "cells": [
    {
      "cell_type": "markdown",
      "metadata": {
        "id": "view-in-github",
        "colab_type": "text"
      },
      "source": [
        "<a href=\"https://colab.research.google.com/github/GavinButts/Fall-Data-Challenge-2022/blob/main/Code/OneVarCharts/FCSUPPRT.ipynb\" target=\"_parent\"><img src=\"https://colab.research.google.com/assets/colab-badge.svg\" alt=\"Open In Colab\"/></a>"
      ]
    },
    {
      "cell_type": "code",
      "execution_count": 1,
      "metadata": {
        "id": "OnbVJW3TxJSr"
      },
      "outputs": [],
      "source": [
        "import pandas as pd\n",
        "import matplotlib as plt\n",
        "import seaborn as sns"
      ]
    },
    {
      "cell_type": "code",
      "source": [
        "#Question: How satisfied or dissatisfied are you with each of the following: \n",
        "#            e. The way that school staff interacts with parents?\n",
        "#Legend:  1 <- Very satisfied\n",
        "#Legend:  2 <- Somewhat satisfied\n",
        "#Legend:  3 <- Somewhat dissatisfied\n",
        "#Legend:  4 <- Very dissatisfied\n",
        "\n",
        "csv = pd.read_csv('CuratedData.csv')\n",
        "FCSUPPRT = []\n",
        "for element in csv[\"FCSUPPRT\"]:\n",
        "    if element != -1:\n",
        "        FCSUPPRT.append(element)\n",
        "res = sns.countplot(x=FCSUPPRT, palette=\"pastel\")"
      ],
      "metadata": {
        "colab": {
          "base_uri": "https://localhost:8080/",
          "height": 265
        },
        "id": "dvXY6KuVxLdM",
        "outputId": "9de4e31f-b82e-4586-bcaf-d51862dfb502"
      },
      "execution_count": 2,
      "outputs": [
        {
          "output_type": "display_data",
          "data": {
            "text/plain": [
              "<Figure size 432x288 with 1 Axes>"
            ],
            "image/png": "[encoded data removed]"
          },
          "metadata": {
            "needs_background": "light"
          }
        }
      ]
    }
  ]
}