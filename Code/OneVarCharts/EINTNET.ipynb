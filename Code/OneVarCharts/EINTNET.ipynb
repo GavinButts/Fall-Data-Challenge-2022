{
  "nbformat": 4,
  "nbformat_minor": 0,
  "metadata": {
    "colab": {
      "provenance": [],
      "authorship_tag": "ABX9TyNLJQg0iDVdR/EjjC0GaC/C",
      "include_colab_link": true
    },
    "kernelspec": {
      "name": "python3",
      "display_name": "Python 3"
    },
    "language_info": {
      "name": "python"
    }
  },
  "cells": [
    {
      "cell_type": "markdown",
      "metadata": {
        "id": "view-in-github",
        "colab_type": "text"
      },
      "source": [
        "<a href=\"https://colab.research.google.com/github/GavinButts/Fall-Data-Challenge-2022/blob/main/Code/OneVarCharts/EINTNET.ipynb\" target=\"_parent\"><img src=\"https://colab.research.google.com/assets/colab-badge.svg\" alt=\"Open In Colab\"/></a>"
      ]
    },
    {
      "cell_type": "code",
      "execution_count": 1,
      "metadata": {
        "id": "t3AoDprC-d5J"
      },
      "outputs": [],
      "source": [
        "import pandas as pd\n",
        "import matplotlib as plt\n",
        "import seaborn as sns"
      ]
    },
    {
      "cell_type": "code",
      "source": [
        "#Question: Is this child enrolled in any online, virtual, or cyber courses?\n",
        "#Legend:  1 <- Yes, all the child’s courses are online, virtual, or cyber\n",
        "#Legend:  2 <- Yes, about half or more than half of the child’s courses are online, virtual, or cyber\n",
        "#Legend:  3 <- Yes, less than half of the child’s courses are online, virtual, or cyber\n",
        "#Legend:  4 <- No, none of this child’s courses are online, virtual, or cyber\n",
        "\n",
        "csv = pd.read_csv('CuratedData.csv')\n",
        "EINTNET = []\n",
        "for element in csv[\"EINTNET\"]:\n",
        "    if element != -1:\n",
        "        EINTNET.append(element)\n",
        "\n",
        "res = sns.countplot(x=EINTNET, palette=\"pastel\")"
      ],
      "metadata": {
        "colab": {
          "base_uri": "https://localhost:8080/",
          "height": 265
        },
        "id": "ZlQ_PqTr-foN",
        "outputId": "29d31f4b-ee4f-4162-b880-924556703480"
      },
      "execution_count": 2,
      "outputs": [
        {
          "output_type": "display_data",
          "data": {
            "text/plain": [
              "<Figure size 432x288 with 1 Axes>"
            ],
            "image/png": "[encoded data removed]"
          },
          "metadata": {
            "needs_background": "light"
          }
        }
      ]
    }
  ]
}