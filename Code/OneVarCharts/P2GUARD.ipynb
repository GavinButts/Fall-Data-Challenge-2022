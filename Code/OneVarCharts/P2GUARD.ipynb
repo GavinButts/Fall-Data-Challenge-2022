{
  "nbformat": 4,
  "nbformat_minor": 0,
  "metadata": {
    "colab": {
      "provenance": [],
      "authorship_tag": "ABX9TyM5zt+0Hr08HgqBVUtP/Uej",
      "include_colab_link": true
    },
    "kernelspec": {
      "name": "python3",
      "display_name": "Python 3"
    },
    "language_info": {
      "name": "python"
    }
  },
  "cells": [
    {
      "cell_type": "markdown",
      "metadata": {
        "id": "view-in-github",
        "colab_type": "text"
      },
      "source": [
        "<a href=\"https://colab.research.google.com/github/GavinButts/Fall-Data-Challenge-2022/blob/main/Code/OneVarCharts/P2GUARD.ipynb\" target=\"_parent\"><img src=\"https://colab.research.google.com/assets/colab-badge.svg\" alt=\"Open In Colab\"/></a>"
      ]
    },
    {
      "cell_type": "code",
      "execution_count": 1,
      "metadata": {
        "id": "CLkhXB5glNC9"
      },
      "outputs": [],
      "source": [
        "import pandas as pd\n",
        "import matplotlib as plt\n",
        "import seaborn as sns"
      ]
    },
    {
      "cell_type": "code",
      "source": [
        "#Question: Is there a second parent or guardian living in this household?\n",
        "\n",
        "csv = pd.read_csv('CuratedData.csv')\n",
        "P2GUARD = []\n",
        "for element in csv[\"P2GUARD\"]:\n",
        "    if element != -1:\n",
        "       if element == 1:\n",
        "          P2GUARD.append(\"Yes\")\n",
        "       if element == 2:\n",
        "          P2GUARD.append(\"No\")\n",
        "        \n",
        "res = sns.countplot(x=P2GUARD, palette=\"pastel\")"
      ],
      "metadata": {
        "colab": {
          "base_uri": "https://localhost:8080/",
          "height": 269
        },
        "id": "w4ITJgHilVfi",
        "outputId": "a10db3f8-ab9c-428e-fcda-a2ebd2d5bf0c"
      },
      "execution_count": 3,
      "outputs": [
        {
          "output_type": "display_data",
          "data": {
            "text/plain": [
              "<Figure size 432x288 with 1 Axes>"
            ],
            "image/png": "[encoded data removed]"
          },
          "metadata": {
            "needs_background": "light"
          }
        }
      ]
    }
  ]
}