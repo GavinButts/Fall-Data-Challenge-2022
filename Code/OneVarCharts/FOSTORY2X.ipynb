{
  "nbformat": 4,
  "nbformat_minor": 0,
  "metadata": {
    "colab": {
      "provenance": [],
      "authorship_tag": "ABX9TyOJZMobX+OxIMZyFl/+0bJ9",
      "include_colab_link": true
    },
    "kernelspec": {
      "name": "python3",
      "display_name": "Python 3"
    },
    "language_info": {
      "name": "python"
    }
  },
  "cells": [
    {
      "cell_type": "markdown",
      "metadata": {
        "id": "view-in-github",
        "colab_type": "text"
      },
      "source": [
        "<a href=\"https://colab.research.google.com/github/GavinButts/Fall-Data-Challenge-2022/blob/main/Code/OneVarCharts/FOSTORY2X.ipynb\" target=\"_parent\"><img src=\"https://colab.research.google.com/assets/colab-badge.svg\" alt=\"Open In Colab\"/></a>"
      ]
    },
    {
      "cell_type": "code",
      "execution_count": 1,
      "metadata": {
        "id": "av2RKdtGpeOc"
      },
      "outputs": [],
      "source": [
        "import pandas as pd\n",
        "import matplotlib as plt\n",
        "import seaborn as sns"
      ]
    },
    {
      "cell_type": "code",
      "source": [
        "#Question: In the past week, has anyone in your family done the following things with this child? \n",
        "#            a. Told him or her a story (Do not include reading to this child.)\n",
        "\n",
        "\n",
        "\n",
        "csv = pd.read_csv('CuratedData.csv')\n",
        "FOSTORY2X = []\n",
        "for element in csv[\"FOSTORY2X\"]:\n",
        "    if element != -1:\n",
        "        if element == 1:\n",
        "            FOSTORY2X.append(\"Yes\")\n",
        "        if element == 2:\n",
        "            FOSTORY2X.append(\"No\")\n",
        "        \n",
        "res = sns.countplot(x=FOSTORY2X, palette=\"pastel\")"
      ],
      "metadata": {
        "colab": {
          "base_uri": "https://localhost:8080/",
          "height": 265
        },
        "id": "fv8r-gEtpmx_",
        "outputId": "8e958a40-9e2c-40fa-a2ad-d4e459271008"
      },
      "execution_count": 4,
      "outputs": [
        {
          "output_type": "display_data",
          "data": {
            "text/plain": [
              "<Figure size 432x288 with 1 Axes>"
            ],
            "image/png": "[encoded data removed]"
          },
          "metadata": {
            "needs_background": "light"
          }
        }
      ]
    }
  ]
}