{
  "nbformat": 4,
  "nbformat_minor": 0,
  "metadata": {
    "colab": {
      "provenance": [],
      "authorship_tag": "ABX9TyOfl98jALL1mNPQaxdCqWnI",
      "include_colab_link": true
    },
    "kernelspec": {
      "name": "python3",
      "display_name": "Python 3"
    },
    "language_info": {
      "name": "python"
    }
  },
  "cells": [
    {
      "cell_type": "markdown",
      "metadata": {
        "id": "view-in-github",
        "colab_type": "text"
      },
      "source": [
        "<a href=\"https://colab.research.google.com/github/GavinButts/Fall-Data-Challenge-2022/blob/main/Code/OneVarCharts/MOSTIMPT.ipynb\" target=\"_parent\"><img src=\"https://colab.research.google.com/assets/colab-badge.svg\" alt=\"Open In Colab\"/></a>"
      ]
    },
    {
      "cell_type": "code",
      "execution_count": 1,
      "metadata": {
        "id": "S_MX7pjM_CJS"
      },
      "outputs": [],
      "source": [
        "import pandas as pd\n",
        "import matplotlib as plt\n",
        "import seaborn as sns"
      ]
    },
    {
      "cell_type": "code",
      "source": [
        "#Question: Of the reasons that this child is enrolled in online, virtual, or cyber courses, which one would you say is the most important to you?\n",
        "#Legend:  1   <- Advanced courses\n",
        "#Legend:  2   <- Specialized courses\n",
        "#Legend:  3   <- Make up a course\n",
        "#Legend:  4   <- Additional credits\n",
        "#Legend:  5   <- Extra help\n",
        "#Legend:  6   <- Schedule conflict\n",
        "#Legend:  7   <- Child has a physical or mental health problem that has lasted six months or more\n",
        "#Legend:  8   <- Temporary illness\n",
        "#Legend:  9   <- Other special needs\n",
        "#Legend:  10  <- Learning style\n",
        "#Legend:  11  <- Was required\n",
        "#Legend:  12  <- School placement\n",
        "#Legend:  13  <- Prefer online, virtual or cyber courses\n",
        "#Legend:  14  <- Other reasons\n",
        "\n",
        "\n",
        "csv = pd.read_csv('CuratedData.csv')\n",
        "MOSTIMPT = []\n",
        "for element in csv[\"MOSTIMPT\"]:\n",
        "    if element != -1:\n",
        "        MOSTIMPT.append(element)\n",
        "res = sns.countplot(x=MOSTIMPT, palette=\"pastel\")"
      ],
      "metadata": {
        "colab": {
          "base_uri": "https://localhost:8080/",
          "height": 265
        },
        "id": "ux6dz4dd_Fmy",
        "outputId": "af80a773-65ab-424d-be7a-4ad1db46aa69"
      },
      "execution_count": 2,
      "outputs": [
        {
          "output_type": "display_data",
          "data": {
            "text/plain": [
              "<Figure size 432x288 with 1 Axes>"
            ],
            "image/png": "[encoded data removed]"
          },
          "metadata": {
            "needs_background": "light"
          }
        }
      ]
    }
  ]
}