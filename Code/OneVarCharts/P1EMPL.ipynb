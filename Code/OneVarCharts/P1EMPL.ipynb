{
  "nbformat": 4,
  "nbformat_minor": 0,
  "metadata": {
    "colab": {
      "provenance": [],
      "authorship_tag": "ABX9TyNbOmG8zMccD+tWVCjtNzgR",
      "include_colab_link": true
    },
    "kernelspec": {
      "name": "python3",
      "display_name": "Python 3"
    },
    "language_info": {
      "name": "python"
    }
  },
  "cells": [
    {
      "cell_type": "markdown",
      "metadata": {
        "id": "view-in-github",
        "colab_type": "text"
      },
      "source": [
        "<a href=\"https://colab.research.google.com/github/GavinButts/Fall-Data-Challenge-2022/blob/main/Code/OneVarCharts/P1EMPL.ipynb\" target=\"_parent\"><img src=\"https://colab.research.google.com/assets/colab-badge.svg\" alt=\"Open In Colab\"/></a>"
      ]
    },
    {
      "cell_type": "code",
      "execution_count": 1,
      "metadata": {
        "id": "ssa_zEYBjc6x"
      },
      "outputs": [],
      "source": [
        "import pandas as pd\n",
        "import matplotlib as plt\n",
        "import seaborn as sns"
      ]
    },
    {
      "cell_type": "code",
      "source": [
        "#Question: Which of the following best describes this parent or guardian’s employment status?\n",
        "#Legend:  1 <- Employed for pay or income\n",
        "#Legend:  2 <- Self-employed\n",
        "#Legend:  3 <- Unemployed or out of work\n",
        "#Legend:  4 <- Full-time student\n",
        "#Legend:  5 <- Stay at home parent\n",
        "#Legend:  6 <- Retired\n",
        "#Legend:  7 <- Disabled or unable to work\n",
        "\n",
        "\n",
        "csv = pd.read_csv('CuratedData.csv')\n",
        "P1EMPL = []\n",
        "for element in csv[\"P1EMPL\"]:\n",
        "    if element != -1:\n",
        "       P1EMPL.append(element)\n",
        "        \n",
        "res = sns.countplot(x=P1EMPL, palette=\"pastel\")"
      ],
      "metadata": {
        "colab": {
          "base_uri": "https://localhost:8080/",
          "height": 265
        },
        "id": "4JRo8BR2jg4P",
        "outputId": "e97acb50-d574-4568-d819-e33395eb11f0"
      },
      "execution_count": 3,
      "outputs": [
        {
          "output_type": "display_data",
          "data": {
            "text/plain": [
              "<Figure size 432x288 with 1 Axes>"
            ],
            "image/png": "[encoded data removed]"
          },
          "metadata": {
            "needs_background": "light"
          }
        }
      ]
    }
  ]
}