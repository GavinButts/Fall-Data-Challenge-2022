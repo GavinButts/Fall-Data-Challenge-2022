{
  "nbformat": 4,
  "nbformat_minor": 0,
  "metadata": {
    "colab": {
      "provenance": [],
      "authorship_tag": "ABX9TyMQitxSU9lZ+JM2fiipwD+k",
      "include_colab_link": true
    },
    "kernelspec": {
      "name": "python3",
      "display_name": "Python 3"
    },
    "language_info": {
      "name": "python"
    }
  },
  "cells": [
    {
      "cell_type": "markdown",
      "metadata": {
        "id": "view-in-github",
        "colab_type": "text"
      },
      "source": [
        "<a href=\"https://colab.research.google.com/github/GavinButts/Fall-Data-Challenge-2022/blob/main/Code/OneVarCharts/SCHLHRSWK.ipynb\" target=\"_parent\"><img src=\"https://colab.research.google.com/assets/colab-badge.svg\" alt=\"Open In Colab\"/></a>"
      ]
    },
    {
      "cell_type": "code",
      "execution_count": 2,
      "metadata": {
        "id": "ognHUk3K96n4"
      },
      "outputs": [],
      "source": [
        "import pandas as pd\n",
        "import matplotlib as plt\n",
        "import seaborn as sns"
      ]
    },
    {
      "cell_type": "code",
      "source": [
        "#Question: About how many hours does this child attend a school each week?\n",
        "#Legend:  0 <-  0 hours. Child's school is not located in a physical building\n",
        "#Legend:  1 <-  1-10 hours.\n",
        "#Legend:  2 <-  11-24 hours.\n",
        "#Legend:  3 <-  More than 24 hours.\n",
        "\n",
        "csv = pd.read_csv('CuratedData.csv')\n",
        "SCHLHRSWK = []\n",
        "for element in csv[\"SCHLHRSWK\"]:\n",
        "    if element != -1:\n",
        "        if element == 1:\n",
        "            SCHLHRSWK.append(\"0 hours\")\n",
        "        if element == 2:\n",
        "            SCHLHRSWK.append(\"1-10 hours\")\n",
        "        if element == 3:\n",
        "            SCHLHRSWK.append(\"11-24 hours\")\n",
        "        if element == 4:\n",
        "            SCHLHRSWK.append(\"More than 24 hours\")\n",
        "res = sns.countplot(x=SCHLHRSWK, palette=\"pastel\")"
      ],
      "metadata": {
        "colab": {
          "base_uri": "https://localhost:8080/",
          "height": 265
        },
        "id": "VZTyX2eP97mU",
        "outputId": "5adf6864-d9fb-43c2-da33-02ea538ed211"
      },
      "execution_count": 3,
      "outputs": [
        {
          "output_type": "display_data",
          "data": {
            "text/plain": [
              "<Figure size 432x288 with 1 Axes>"
            ],
            "image/png": "[encoded data removed]"
          },
          "metadata": {
            "needs_background": "light"
          }
        }
      ]
    }
  ]
}