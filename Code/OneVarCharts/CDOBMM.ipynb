{
  "nbformat": 4,
  "nbformat_minor": 0,
  "metadata": {
    "colab": {
      "provenance": [],
      "authorship_tag": "ABX9TyO8u8un1y+kvyb9UB7kgrC7",
      "include_colab_link": true
    },
    "kernelspec": {
      "name": "python3",
      "display_name": "Python 3"
    },
    "language_info": {
      "name": "python"
    }
  },
  "cells": [
    {
      "cell_type": "markdown",
      "metadata": {
        "id": "view-in-github",
        "colab_type": "text"
      },
      "source": [
        "<a href=\"https://colab.research.google.com/github/GavinButts/Fall-Data-Challenge-2022/blob/main/Code/OneVarCharts/CDOBMM.ipynb\" target=\"_parent\"><img src=\"https://colab.research.google.com/assets/colab-badge.svg\" alt=\"Open In Colab\"/></a>"
      ]
    },
    {
      "cell_type": "code",
      "execution_count": 1,
      "metadata": {
        "id": "OAcfi_5XIn7D"
      },
      "outputs": [],
      "source": [
        "import pandas as pd\n",
        "import matplotlib as plt\n",
        "import seaborn as sns"
      ]
    },
    {
      "cell_type": "code",
      "source": [
        "#Question: Question: In what month and year was this child born? \n",
        "#                 Month\n",
        "#Legend:  1 <- January\n",
        "#Legend:  1 <- February\n",
        "#Legend:  1 <- March\n",
        "#Legend:  1 <- April\n",
        "#Legend:  1 <- May\n",
        "#Legend:  1 <- June\n",
        "#Legend:  1 <- July\n",
        "#Legend:  1 <- August\n",
        "#Legend:  1 <- September\n",
        "#Legend:  1 <- October\n",
        "#Legend:  1 <- November\n",
        "#Legend:  1 <- December\n",
        "\n",
        "csv = pd.read_csv('CuratedData.csv')\n",
        "CDOBMM = []\n",
        "for element in csv[\"CDOBMM\"]:\n",
        "    if element != -1:\n",
        "       CDOBMM.append(element)\n",
        "        \n",
        "res = sns.countplot(x=CDOBMM, palette=\"pastel\")"
      ],
      "metadata": {
        "colab": {
          "base_uri": "https://localhost:8080/",
          "height": 265
        },
        "id": "uRx77H0GIomG",
        "outputId": "69ffbe60-29a7-4df1-9ab6-e1ec89e66f1b"
      },
      "execution_count": 2,
      "outputs": [
        {
          "output_type": "display_data",
          "data": {
            "text/plain": [
              "<Figure size 432x288 with 1 Axes>"
            ],
            "image/png": "[encoded data removed]"
          },
          "metadata": {
            "needs_background": "light"
          }
        }
      ]
    }
  ]
}