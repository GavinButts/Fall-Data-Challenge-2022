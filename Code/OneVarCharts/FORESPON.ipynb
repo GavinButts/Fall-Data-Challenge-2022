{
  "nbformat": 4,
  "nbformat_minor": 0,
  "metadata": {
    "colab": {
      "provenance": [],
      "authorship_tag": "ABX9TyMztb/Ik3cH9MWJLrWVfsHy",
      "include_colab_link": true
    },
    "kernelspec": {
      "name": "python3",
      "display_name": "Python 3"
    },
    "language_info": {
      "name": "python"
    }
  },
  "cells": [
    {
      "cell_type": "markdown",
      "metadata": {
        "id": "view-in-github",
        "colab_type": "text"
      },
      "source": [
        "<a href=\"https://colab.research.google.com/github/GavinButts/Fall-Data-Challenge-2022/blob/main/Code/OneVarCharts/FORESPON.ipynb\" target=\"_parent\"><img src=\"https://colab.research.google.com/assets/colab-badge.svg\" alt=\"Open In Colab\"/></a>"
      ]
    },
    {
      "cell_type": "code",
      "execution_count": 1,
      "metadata": {
        "id": "4T7AkMTDrpx0"
      },
      "outputs": [],
      "source": [
        "import pandas as pd\n",
        "import matplotlib as plt\n",
        "import seaborn as sns"
      ]
    },
    {
      "cell_type": "code",
      "source": [
        "#Question: In the past week, has anyone in your family done the following things with this child? \n",
        "#            f. Discussed with him or her how to manage time\n",
        "\n",
        "\n",
        "\n",
        "csv = pd.read_csv('CuratedData.csv')\n",
        "FORESPON = []\n",
        "for element in csv[\"FORESPON\"]:\n",
        "    if element != -1:\n",
        "        if element == 1:\n",
        "            FORESPON.append(\"Yes\")\n",
        "        if element == 2:\n",
        "            FORESPON.append(\"No\")\n",
        "        \n",
        "res = sns.countplot(x=FORESPON, palette=\"pastel\")"
      ],
      "metadata": {
        "colab": {
          "base_uri": "https://localhost:8080/",
          "height": 265
        },
        "id": "O4Ev2UMVrqeG",
        "outputId": "958b429e-3851-4a6d-fb06-d14e96bcc2f9"
      },
      "execution_count": 2,
      "outputs": [
        {
          "output_type": "display_data",
          "data": {
            "text/plain": [
              "<Figure size 432x288 with 1 Axes>"
            ],
            "image/png": "[encoded data removed]"
          },
          "metadata": {
            "needs_background": "light"
          }
        }
      ]
    }
  ]
}