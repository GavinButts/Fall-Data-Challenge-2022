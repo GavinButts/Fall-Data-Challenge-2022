{
  "nbformat": 4,
  "nbformat_minor": 0,
  "metadata": {
    "colab": {
      "provenance": [],
      "authorship_tag": "ABX9TyPjyo6+YyjlXhfmbBxhACuE",
      "include_colab_link": true
    },
    "kernelspec": {
      "name": "python3",
      "display_name": "Python 3"
    },
    "language_info": {
      "name": "python"
    }
  },
  "cells": [
    {
      "cell_type": "markdown",
      "metadata": {
        "id": "view-in-github",
        "colab_type": "text"
      },
      "source": [
        "<a href=\"https://colab.research.google.com/github/GavinButts/Fall-Data-Challenge-2022/blob/main/Code/OneVarCharts/RACEETH.ipynb\" target=\"_parent\"><img src=\"https://colab.research.google.com/assets/colab-badge.svg\" alt=\"Open In Colab\"/></a>"
      ]
    },
    {
      "cell_type": "code",
      "execution_count": 1,
      "metadata": {
        "id": "cmJC6IWv9KM2"
      },
      "outputs": [],
      "source": [
        "import pandas as pd\n",
        "import matplotlib as plt\n",
        "import seaborn as sns"
      ]
    },
    {
      "cell_type": "code",
      "source": [
        "#Question: Race and ethnicity of child\n",
        "#Legend:  1 <- White, non-Hispanic\n",
        "#Legend:  2 <- Black, non-Hispanic\n",
        "#Legend:  3 <- Hispanic\n",
        "#Legend:  4 <- Asian or Pacific Islander, non-Hispanic\n",
        "#Legend:  5 <- All other races and multiple races, non-Hispanic\n",
        "\n",
        "\n",
        "csv = pd.read_csv('CuratedData.csv')\n",
        "RACEETH = []\n",
        "for element in csv[\"RACEETH\"]:\n",
        "    if element != -1:\n",
        "      RACEETH.append(element)\n",
        "\n",
        "        \n",
        "res = sns.countplot(x=RACEETH, palette=\"pastel\")"
      ],
      "metadata": {
        "colab": {
          "base_uri": "https://localhost:8080/",
          "height": 265
        },
        "id": "jCelcmVf9LxD",
        "outputId": "2b776a97-9848-472a-e90a-71e46ba05d0e"
      },
      "execution_count": 2,
      "outputs": [
        {
          "output_type": "display_data",
          "data": {
            "text/plain": [
              "<Figure size 432x288 with 1 Axes>"
            ],
            "image/png": "[encoded data removed]"
          },
          "metadata": {
            "needs_background": "light"
          }
        }
      ]
    }
  ]
}