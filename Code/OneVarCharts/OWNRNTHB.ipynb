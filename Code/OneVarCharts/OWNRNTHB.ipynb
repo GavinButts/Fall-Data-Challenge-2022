{
  "nbformat": 4,
  "nbformat_minor": 0,
  "metadata": {
    "colab": {
      "provenance": [],
      "authorship_tag": "ABX9TyMnnweJfa/imsl6mPAHITM3",
      "include_colab_link": true
    },
    "kernelspec": {
      "name": "python3",
      "display_name": "Python 3"
    },
    "language_info": {
      "name": "python"
    }
  },
  "cells": [
    {
      "cell_type": "markdown",
      "metadata": {
        "id": "view-in-github",
        "colab_type": "text"
      },
      "source": [
        "<a href=\"https://colab.research.google.com/github/GavinButts/Fall-Data-Challenge-2022/blob/main/Code/OneVarCharts/OWNRNTHB.ipynb\" target=\"_parent\"><img src=\"https://colab.research.google.com/assets/colab-badge.svg\" alt=\"Open In Colab\"/></a>"
      ]
    },
    {
      "cell_type": "code",
      "execution_count": 1,
      "metadata": {
        "id": "4LuiEksjmnlp"
      },
      "outputs": [],
      "source": [
        "import pandas as pd\n",
        "import matplotlib as plt\n",
        "import seaborn as sns"
      ]
    },
    {
      "cell_type": "code",
      "source": [
        "#Question: How old is this parent or guardian?\n",
        "#Legend:  1  <- Owned or being bought\n",
        "#Legend:  2  <- Rented\n",
        "#Legend:  3  <- Occupied by some other arrangement\n",
        "\n",
        "csv = pd.read_csv('CuratedData.csv')\n",
        "OWNRNTHB = []\n",
        "for element in csv[\"OWNRNTHB\"]:\n",
        "    if element != -1:\n",
        "       OWNRNTHB.append(element)\n",
        "        \n",
        "res = sns.countplot(x=OWNRNTHB, palette=\"pastel\")"
      ],
      "metadata": {
        "colab": {
          "base_uri": "https://localhost:8080/",
          "height": 265
        },
        "id": "SYfeusDnmpnn",
        "outputId": "947dfafc-f52d-4eed-869c-a6d32d5395fb"
      },
      "execution_count": 3,
      "outputs": [
        {
          "output_type": "display_data",
          "data": {
            "text/plain": [
              "<Figure size 432x288 with 1 Axes>"
            ],
            "image/png": "[encoded data removed]"
          },
          "metadata": {
            "needs_background": "light"
          }
        }
      ]
    }
  ]
}