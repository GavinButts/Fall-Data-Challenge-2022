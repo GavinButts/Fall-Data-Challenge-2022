{
  "nbformat": 4,
  "nbformat_minor": 0,
  "metadata": {
    "colab": {
      "provenance": [],
      "authorship_tag": "ABX9TyPTV1IRQXGJUw8HyMBz0rcv",
      "include_colab_link": true
    },
    "kernelspec": {
      "name": "python3",
      "display_name": "Python 3"
    },
    "language_info": {
      "name": "python"
    }
  },
  "cells": [
    {
      "cell_type": "markdown",
      "metadata": {
        "id": "view-in-github",
        "colab_type": "text"
      },
      "source": [
        "<a href=\"https://colab.research.google.com/github/GavinButts/Fall-Data-Challenge-2022/blob/main/Code/OneVarCharts/CSPEAKX.ipynb\" target=\"_parent\"><img src=\"https://colab.research.google.com/assets/colab-badge.svg\" alt=\"Open In Colab\"/></a>"
      ]
    },
    {
      "cell_type": "code",
      "execution_count": 1,
      "metadata": {
        "id": "SYZuBHtaKGYA"
      },
      "outputs": [],
      "source": [
        "import pandas as pd\n",
        "import matplotlib as plt\n",
        "import seaborn as sns"
      ]
    },
    {
      "cell_type": "code",
      "source": [
        "#Question: What language does this child speak most at home?\n",
        "#Legend:  1 <- Child is not able to speak\n",
        "#Legend:  2 <- English\n",
        "#Legend:  3 <- Spanish\n",
        "#Legend:  4 <- English and Spanish equally\n",
        "#Legend:  5 <- A language other than English or Spanish\n",
        "#Legend:  6 <- English and another language equally\n",
        "\n",
        "csv = pd.read_csv('CuratedData.csv')\n",
        "CSPEAKX = []\n",
        "for element in csv[\"CSPEAKX\"]:\n",
        "    if element != -1:\n",
        "       CSPEAKX.append(element)\n",
        "        \n",
        "res = sns.countplot(x=CSPEAKX, palette=\"pastel\")"
      ],
      "metadata": {
        "colab": {
          "base_uri": "https://localhost:8080/",
          "height": 266
        },
        "id": "6SGEafzEKIgL",
        "outputId": "bd82eb74-ea43-4877-e6f1-2b84d05eb253"
      },
      "execution_count": 3,
      "outputs": [
        {
          "output_type": "display_data",
          "data": {
            "text/plain": [
              "<Figure size 432x288 with 1 Axes>"
            ],
            "image/png": "[encoded data removed]"
          },
          "metadata": {
            "needs_background": "light"
          }
        }
      ]
    }
  ]
}