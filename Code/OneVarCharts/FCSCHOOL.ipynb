{
  "nbformat": 4,
  "nbformat_minor": 0,
  "metadata": {
    "colab": {
      "provenance": [],
      "authorship_tag": "ABX9TyNR0fKOKTTG8ZhZXiZqA6Cl",
      "include_colab_link": true
    },
    "kernelspec": {
      "name": "python3",
      "display_name": "Python 3"
    },
    "language_info": {
      "name": "python"
    }
  },
  "cells": [
    {
      "cell_type": "markdown",
      "metadata": {
        "id": "view-in-github",
        "colab_type": "text"
      },
      "source": [
        "<a href=\"https://colab.research.google.com/github/GavinButts/Fall-Data-Challenge-2022/blob/main/Code/OneVarCharts/FCSCHOOL.ipynb\" target=\"_parent\"><img src=\"https://colab.research.google.com/assets/colab-badge.svg\" alt=\"Open In Colab\"/></a>"
      ]
    },
    {
      "cell_type": "code",
      "execution_count": 1,
      "metadata": {
        "id": "M0BAtgUUuuZV"
      },
      "outputs": [],
      "source": [
        "import pandas as pd\n",
        "import matplotlib as plt\n",
        "import seaborn as sns"
      ]
    },
    {
      "cell_type": "code",
      "source": [
        "#Question: How satisfied or dissatisfied are you with each of the following: \n",
        "#            a. The school this child attends this year?\n",
        "#Legend:  1 <- Very satisfied\n",
        "#Legend:  2 <- Somewhat satisfied\n",
        "#Legend:  3 <- Somewhat dissatisfied\n",
        "#Legend:  4 <- Very dissatisfied\n",
        "\n",
        "csv = pd.read_csv('CuratedData.csv')\n",
        "FCSCHOOL = []\n",
        "for element in csv[\"FCSCHOOL\"]:\n",
        "    if element != -1:\n",
        "        FCSCHOOL.append(element)\n",
        "\n",
        "res = sns.countplot(x=FCSCHOOL, palette=\"pastel\")"
      ],
      "metadata": {
        "colab": {
          "base_uri": "https://localhost:8080/",
          "height": 265
        },
        "id": "KiTcoDs8u1cm",
        "outputId": "fe2a4528-f79b-468d-a92f-3d464dd00dce"
      },
      "execution_count": 5,
      "outputs": [
        {
          "output_type": "display_data",
          "data": {
            "text/plain": [
              "<Figure size 432x288 with 1 Axes>"
            ],
            "image/png": "[encoded data removed]"
          },
          "metadata": {
            "needs_background": "light"
          }
        }
      ]
    }
  ]
}