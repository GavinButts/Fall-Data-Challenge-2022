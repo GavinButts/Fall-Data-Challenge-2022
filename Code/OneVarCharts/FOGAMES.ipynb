{
  "nbformat": 4,
  "nbformat_minor": 0,
  "metadata": {
    "colab": {
      "provenance": [],
      "authorship_tag": "ABX9TyNDwo+Gk9P5f7OtTm+gnq+y",
      "include_colab_link": true
    },
    "kernelspec": {
      "name": "python3",
      "display_name": "Python 3"
    },
    "language_info": {
      "name": "python"
    }
  },
  "cells": [
    {
      "cell_type": "markdown",
      "metadata": {
        "id": "view-in-github",
        "colab_type": "text"
      },
      "source": [
        "<a href=\"https://colab.research.google.com/github/GavinButts/Fall-Data-Challenge-2022/blob/main/Code/OneVarCharts/FOGAMES.ipynb\" target=\"_parent\"><img src=\"https://colab.research.google.com/assets/colab-badge.svg\" alt=\"Open In Colab\"/></a>"
      ]
    },
    {
      "cell_type": "code",
      "execution_count": 1,
      "metadata": {
        "id": "gXGOqhlfqexQ"
      },
      "outputs": [],
      "source": [
        "import pandas as pd\n",
        "import matplotlib as plt\n",
        "import seaborn as sns"
      ]
    },
    {
      "cell_type": "code",
      "source": [
        "#Question: In the past week, has anyone in your family done the following things with this child? \n",
        "#             b. Done activities like arts and crafts, coloring, painting, pasting, or using clay\n",
        "\n",
        "\n",
        "\n",
        "csv = pd.read_csv('CuratedData.csv')\n",
        "FOGAMES = []\n",
        "for element in csv[\"FOGAMES\"]:\n",
        "    if element != -1:\n",
        "        if element == 1:\n",
        "            FOGAMES.append(\"Yes\")\n",
        "        if element == 2:\n",
        "            FOGAMES.append(\"No\")\n",
        "        \n",
        "res = sns.countplot(x=FOGAMES, palette=\"pastel\")"
      ],
      "metadata": {
        "colab": {
          "base_uri": "https://localhost:8080/",
          "height": 265
        },
        "id": "bWwONgwjqgKU",
        "outputId": "c5a8c002-1c3a-4796-c498-3024479aca72"
      },
      "execution_count": 3,
      "outputs": [
        {
          "output_type": "display_data",
          "data": {
            "text/plain": [
              "<Figure size 432x288 with 1 Axes>"
            ],
            "image/png": "[encoded data removed]"
          },
          "metadata": {
            "needs_background": "light"
          }
        }
      ]
    }
  ]
}