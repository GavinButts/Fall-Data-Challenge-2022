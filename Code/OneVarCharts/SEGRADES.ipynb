{
  "nbformat": 4,
  "nbformat_minor": 0,
  "metadata": {
    "colab": {
      "provenance": [],
      "authorship_tag": "ABX9TyPXB7LMO4yFCX7RlJs6/xyb",
      "include_colab_link": true
    },
    "kernelspec": {
      "name": "python3",
      "display_name": "Python 3"
    },
    "language_info": {
      "name": "python"
    }
  },
  "cells": [
    {
      "cell_type": "markdown",
      "metadata": {
        "id": "view-in-github",
        "colab_type": "text"
      },
      "source": [
        "<a href=\"https://colab.research.google.com/github/GavinButts/Fall-Data-Challenge-2022/blob/main/Code/OneVarCharts/SEGRADES.ipynb\" target=\"_parent\"><img src=\"https://colab.research.google.com/assets/colab-badge.svg\" alt=\"Open In Colab\"/></a>"
      ]
    },
    {
      "cell_type": "code",
      "execution_count": 1,
      "metadata": {
        "id": "n-94oarfs1oY"
      },
      "outputs": [],
      "source": [
        "import pandas as pd\n",
        "import matplotlib as plt\n",
        "import seaborn as sns"
      ]
    },
    {
      "cell_type": "code",
      "source": [
        "#Question: Please tell us about this child’s grades during this school year. Overall, across all subjects, what grades does this child get?\n",
        "#Legend:  1 <- Mostly A's\n",
        "#Legend:  2 <- Mostly B's\n",
        "#Legend:  3 <- Mostly C's\n",
        "#Legend:  4 <- Mostly D's or lower\n",
        "#Legend:  5 <- School does not give grades\n",
        "\n",
        "csv = pd.read_csv('CuratedData.csv')\n",
        "SEGRADES = []\n",
        "for element in csv[\"SEGRADES\"]:\n",
        "    if element != -1:\n",
        "        SEGRADES.append(element)\n",
        "res = sns.countplot(x=SEGRADES, palette=\"pastel\")"
      ],
      "metadata": {
        "colab": {
          "base_uri": "https://localhost:8080/",
          "height": 265
        },
        "id": "tsfEayTLs5jN",
        "outputId": "ec6343d9-53eb-48be-c2f9-8ec2f67dbd09"
      },
      "execution_count": 2,
      "outputs": [
        {
          "output_type": "display_data",
          "data": {
            "text/plain": [
              "<Figure size 432x288 with 1 Axes>"
            ],
            "image/png": "[encoded data removed]"
          },
          "metadata": {
            "needs_background": "light"
          }
        }
      ]
    }
  ]
}