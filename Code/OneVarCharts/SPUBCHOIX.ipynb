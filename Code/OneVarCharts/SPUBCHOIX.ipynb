{
  "nbformat": 4,
  "nbformat_minor": 0,
  "metadata": {
    "colab": {
      "provenance": [],
      "authorship_tag": "ABX9TyP1piSyk2TBfiuKE88C2gSa",
      "include_colab_link": true
    },
    "kernelspec": {
      "name": "python3",
      "display_name": "Python 3"
    },
    "language_info": {
      "name": "python"
    }
  },
  "cells": [
    {
      "cell_type": "markdown",
      "metadata": {
        "id": "view-in-github",
        "colab_type": "text"
      },
      "source": [
        "<a href=\"https://colab.research.google.com/github/GavinButts/Fall-Data-Challenge-2022/blob/main/Code/OneVarCharts/SPUBCHOIX.ipynb\" target=\"_parent\"><img src=\"https://colab.research.google.com/assets/colab-badge.svg\" alt=\"Open In Colab\"/></a>"
      ]
    },
    {
      "cell_type": "code",
      "execution_count": null,
      "metadata": {
        "id": "cnrI_5oV9UpI"
      },
      "outputs": [],
      "source": [
        "import pandas as pd\n",
        "import matplotlib as plt\n",
        "import seaborn as sns"
      ]
    },
    {
      "cell_type": "code",
      "source": [
        "#Question: Does your public school district let you choose which public school you want this child to attend?\n",
        "\n",
        "csv = pd.read_csv('CuratedData.csv')\n",
        "SPUBCHOIX = []\n",
        "for element in csv[\"SPUBCHOIX\"]:\n",
        "    if element != -1:\n",
        "        if element == 1:\n",
        "            SPUBCHOIX.append(\"Yes\")\n",
        "        if element == 2:\n",
        "            SPUBCHOIX.append(\"No\")\n",
        "        if element == 3:\n",
        "            SPUBCHOIX.append(\"Don't Know\")\n",
        "res = sns.countplot(x=SPUBCHOIX, palette=\"pastel\")"
      ],
      "metadata": {
        "colab": {
          "base_uri": "https://localhost:8080/",
          "height": 265
        },
        "id": "-dYWGKW29VYa",
        "outputId": "26c2fe75-3037-4c50-ecaa-40b853977c6d"
      },
      "execution_count": null,
      "outputs": [
        {
          "output_type": "display_data",
          "data": {
            "text/plain": [
              "<Figure size 432x288 with 1 Axes>"
            ],
            "image/png": "[encoded data removed]"
          },
          "metadata": {
            "needs_background": "light"
          }
        }
      ]
    }
  ]
}