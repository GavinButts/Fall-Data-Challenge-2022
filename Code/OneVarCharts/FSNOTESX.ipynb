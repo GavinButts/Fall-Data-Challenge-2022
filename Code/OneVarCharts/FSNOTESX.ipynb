{
  "nbformat": 4,
  "nbformat_minor": 0,
  "metadata": {
    "colab": {
      "provenance": [],
      "authorship_tag": "ABX9TyPHUP1fTznozK3ji8Ep7OIi",
      "include_colab_link": true
    },
    "kernelspec": {
      "name": "python3",
      "display_name": "Python 3"
    },
    "language_info": {
      "name": "python"
    }
  },
  "cells": [
    {
      "cell_type": "markdown",
      "metadata": {
        "id": "view-in-github",
        "colab_type": "text"
      },
      "source": [
        "<a href=\"https://colab.research.google.com/github/GavinButts/Fall-Data-Challenge-2022/blob/main/Code/OneVarCharts/FSNOTESX.ipynb\" target=\"_parent\"><img src=\"https://colab.research.google.com/assets/colab-badge.svg\" alt=\"Open In Colab\"/></a>"
      ]
    },
    {
      "cell_type": "code",
      "execution_count": 3,
      "metadata": {
        "id": "GFQhU22twl1V"
      },
      "outputs": [],
      "source": [
        "import pandas as pd\n",
        "import matplotlib as plt\n",
        "import seaborn as sns "
      ]
    },
    {
      "cell_type": "code",
      "source": [
        "#Question: During this school year, has your family received any of the following: \n",
        "#            a. Notes or emails specifically about this child from his or her teachers or school administrators?\n",
        "\n",
        "csv = pd.read_csv('CuratedData.csv')\n",
        "FSNOTESX = []\n",
        "for element in csv[\"FSNOTESX\"]:\n",
        "    if element != -1:\n",
        "        if element == 1:\n",
        "            FSNOTESX.append(\"Yes\")\n",
        "        else:\n",
        "            FSNOTESX.append(\"No\")\n",
        "\n",
        "res = sns.countplot(x=FSNOTESX, palette=\"pastel\")"
      ],
      "metadata": {
        "colab": {
          "base_uri": "https://localhost:8080/",
          "height": 265
        },
        "id": "_JgNOpa4wnzk",
        "outputId": "c390cb74-aea5-4bee-b35b-04b3d32c1970"
      },
      "execution_count": 4,
      "outputs": [
        {
          "output_type": "display_data",
          "data": {
            "text/plain": [
              "<Figure size 432x288 with 1 Axes>"
            ],
            "image/png": "[encoded data removed]"
          },
          "metadata": {
            "needs_background": "light"
          }
        }
      ]
    }
  ]
}