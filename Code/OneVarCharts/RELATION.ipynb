{
  "nbformat": 4,
  "nbformat_minor": 0,
  "metadata": {
    "colab": {
      "provenance": [],
      "authorship_tag": "ABX9TyOTTyMcNhhQnLAxU94jtiri",
      "include_colab_link": true
    },
    "kernelspec": {
      "name": "python3",
      "display_name": "Python 3"
    },
    "language_info": {
      "name": "python"
    }
  },
  "cells": [
    {
      "cell_type": "markdown",
      "metadata": {
        "id": "view-in-github",
        "colab_type": "text"
      },
      "source": [
        "<a href=\"https://colab.research.google.com/github/GavinButts/Fall-Data-Challenge-2022/blob/main/Code/OneVarCharts/RELATION.ipynb\" target=\"_parent\"><img src=\"https://colab.research.google.com/assets/colab-badge.svg\" alt=\"Open In Colab\"/></a>"
      ]
    },
    {
      "cell_type": "code",
      "execution_count": 1,
      "metadata": {
        "id": "hdPP4fmARqTR"
      },
      "outputs": [],
      "source": [
        "import pandas as pd\n",
        "import matplotlib as plt\n",
        "import seaborn as sns"
      ]
    },
    {
      "cell_type": "code",
      "source": [
        "#Question: How are you related to this child?\n",
        "#Legend:  1 <- Mother (birth, adoptive, step, or foster)\n",
        "#Legend:  2 <- Father (birth, adoptive, step, or foster)\n",
        "#Legend:  3 <- Aunt\n",
        "#Legend:  4 <- Uncle\n",
        "#Legend:  5 <- Grandmother\n",
        "#Legend:  6 <- Grandfather\n",
        "#Legend:  7 <- Parent’s girlfriend/boyfriend/partner\n",
        "#Legend:  8 <- Other relationship\n",
        "#Legend:  9 <- Two parents (birth, adoptive, step, foster)(new)\n",
        "#Legend:  10 <- Parent (birth, adoptive, step, or foster) upsecified (new)\n",
        "\n",
        "csv = pd.read_csv('CuratedData.csv')\n",
        "RELATION = []\n",
        "for element in csv[\"RELATION\"]:\n",
        "    if element != -1:\n",
        "       RELATION.append(element)\n",
        "        \n",
        "res = sns.countplot(x=RELATION, palette=\"pastel\")"
      ],
      "metadata": {
        "colab": {
          "base_uri": "https://localhost:8080/",
          "height": 265
        },
        "id": "Nmy0keEDRw9p",
        "outputId": "60427507-b599-4b73-e53b-7b81a93af2cb"
      },
      "execution_count": 3,
      "outputs": [
        {
          "output_type": "display_data",
          "data": {
            "text/plain": [
              "<Figure size 432x288 with 1 Axes>"
            ],
            "image/png": "[encoded data removed]"
          },
          "metadata": {
            "needs_background": "light"
          }
        }
      ]
    }
  ]
}