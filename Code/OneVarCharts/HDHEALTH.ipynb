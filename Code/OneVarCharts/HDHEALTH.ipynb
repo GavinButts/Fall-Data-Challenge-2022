{
  "nbformat": 4,
  "nbformat_minor": 0,
  "metadata": {
    "colab": {
      "provenance": [],
      "authorship_tag": "ABX9TyM7h6K553VTxeTr694BuTXR",
      "include_colab_link": true
    },
    "kernelspec": {
      "name": "python3",
      "display_name": "Python 3"
    },
    "language_info": {
      "name": "python"
    }
  },
  "cells": [
    {
      "cell_type": "markdown",
      "metadata": {
        "id": "view-in-github",
        "colab_type": "text"
      },
      "source": [
        "<a href=\"https://colab.research.google.com/github/GavinButts/Fall-Data-Challenge-2022/blob/main/Code/OneVarCharts/HDHEALTH.ipynb\" target=\"_parent\"><img src=\"https://colab.research.google.com/assets/colab-badge.svg\" alt=\"Open In Colab\"/></a>"
      ]
    },
    {
      "cell_type": "code",
      "execution_count": 1,
      "metadata": {
        "id": "Ptb55j-0uBZe"
      },
      "outputs": [],
      "source": [
        "import pandas as pd\n",
        "import matplotlib as plt\n",
        "import seaborn as sns"
      ]
    },
    {
      "cell_type": "code",
      "source": [
        "#Question: In general, how would you describe this child’s health?\n",
        "#Legend:  1 <- Excellent\n",
        "#Legend:  2 <- Very Good\n",
        "#Legend:  3 <- Good\n",
        "#Legend:  4 <- Fair\n",
        "#Legend:  5 <- Poor\n",
        "\n",
        "csv = pd.read_csv('CuratedData.csv')\n",
        "HDHEALTH = []\n",
        "for element in csv[\"HDHEALTH\"]:\n",
        "    if element != -1:\n",
        "       HDHEALTH.append(element)\n",
        "        \n",
        "res = sns.countplot(x=HDHEALTH, palette=\"pastel\")"
      ],
      "metadata": {
        "colab": {
          "base_uri": "https://localhost:8080/",
          "height": 265
        },
        "id": "83cW3_jYIGBj",
        "outputId": "8ca12f20-c621-4c03-edd8-a2d958af0e86"
      },
      "execution_count": 3,
      "outputs": [
        {
          "output_type": "display_data",
          "data": {
            "text/plain": [
              "<Figure size 432x288 with 1 Axes>"
            ],
            "image/png": "[encoded data removed]"
          },
          "metadata": {
            "needs_background": "light"
          }
        }
      ]
    }
  ]
}