{
  "nbformat": 4,
  "nbformat_minor": 0,
  "metadata": {
    "colab": {
      "provenance": [],
      "authorship_tag": "ABX9TyNZAr77IHivMNvdg+fou/Y+",
      "include_colab_link": true
    },
    "kernelspec": {
      "name": "python3",
      "display_name": "Python 3"
    },
    "language_info": {
      "name": "python"
    }
  },
  "cells": [
    {
      "cell_type": "markdown",
      "metadata": {
        "id": "view-in-github",
        "colab_type": "text"
      },
      "source": [
        "<a href=\"https://colab.research.google.com/github/GavinButts/Fall-Data-Challenge-2022/blob/main/Code/OneVarCharts/SEENJOY.ipynb\" target=\"_parent\"><img src=\"https://colab.research.google.com/assets/colab-badge.svg\" alt=\"Open In Colab\"/></a>"
      ]
    },
    {
      "cell_type": "code",
      "execution_count": 1,
      "metadata": {
        "id": "7cAeLhOFhFLQ"
      },
      "outputs": [],
      "source": [
        "import pandas as pd\n",
        "import matplotlib as plt\n",
        "import seaborn as sns"
      ]
    },
    {
      "cell_type": "code",
      "source": [
        "#Question: How much do you agree or disagree with the following statement: “This child enjoys school.”\n",
        "#Legend:  1  <- Strongly agree\n",
        "#Legend:  2  <- Agree\n",
        "#Legend:  3  <- Disagree\n",
        "#Legend:  4  <- Strongly disagree\n",
        "\n",
        "csv = pd.read_csv('CuratedData.csv')\n",
        "SEENJOY = []\n",
        "for element in csv[\"SEENJOY\"]:\n",
        "    if element != -1:\n",
        "        if element == 1:\n",
        "            SEENJOY.append(\"Strongly Agree\")\n",
        "        if element == 2:\n",
        "            SEENJOY.append(\"Agree\")\n",
        "        if element == 3:\n",
        "            SEENJOY.append(\"Disagree\")\n",
        "        if element == 4:\n",
        "            SEENJOY.append(\"Strongly Disagree\")\n",
        "\n",
        "\n",
        "res = sns.countplot(x=SEENJOY, palette=\"pastel\")"
      ],
      "metadata": {
        "colab": {
          "base_uri": "https://localhost:8080/",
          "height": 265
        },
        "id": "ThXSrzTThI9b",
        "outputId": "90915edb-31e8-4123-8884-4e3bf8b2b970"
      },
      "execution_count": 8,
      "outputs": [
        {
          "output_type": "display_data",
          "data": {
            "text/plain": [
              "<Figure size 432x288 with 1 Axes>"
            ],
            "image/png": "[encoded data removed]"
          },
          "metadata": {
            "needs_background": "light"
          }
        }
      ]
    }
  ]
}