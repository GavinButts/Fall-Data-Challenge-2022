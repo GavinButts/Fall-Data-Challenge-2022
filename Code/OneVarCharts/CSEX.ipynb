{
  "nbformat": 4,
  "nbformat_minor": 0,
  "metadata": {
    "colab": {
      "provenance": [],
      "authorship_tag": "ABX9TyMTCF+yNK2xtJ0C85J/jZvI",
      "include_colab_link": true
    },
    "kernelspec": {
      "name": "python3",
      "display_name": "Python 3"
    },
    "language_info": {
      "name": "python"
    }
  },
  "cells": [
    {
      "cell_type": "markdown",
      "metadata": {
        "id": "view-in-github",
        "colab_type": "text"
      },
      "source": [
        "<a href=\"https://colab.research.google.com/github/GavinButts/Fall-Data-Challenge-2022/blob/main/Code/OneVarCharts/CSEX.ipynb\" target=\"_parent\"><img src=\"https://colab.research.google.com/assets/colab-badge.svg\" alt=\"Open In Colab\"/></a>"
      ]
    },
    {
      "cell_type": "code",
      "execution_count": 1,
      "metadata": {
        "id": "Z0_TgXx9Jsaf"
      },
      "outputs": [],
      "source": [
        "import pandas as pd\n",
        "import matplotlib as plt\n",
        "import seaborn as sns"
      ]
    },
    {
      "cell_type": "code",
      "source": [
        "#Question: What is this child’s sex?\n",
        "\n",
        "csv = pd.read_csv('CuratedData.csv')\n",
        "CSEX = []\n",
        "for element in csv[\"CSEX\"]:\n",
        "    if element != -1:\n",
        "      if element == 1:\n",
        "          CSEX.append(\"M\")\n",
        "      if element == 1:\n",
        "          CSEX.append(\"F\")\n",
        "        \n",
        "res = sns.countplot(x=CSEX, palette=\"pastel\")"
      ],
      "metadata": {
        "colab": {
          "base_uri": "https://localhost:8080/",
          "height": 265
        },
        "id": "8UXfHZH8JuWf",
        "outputId": "bb6549fc-ec86-4c6c-bc76-a4a0bf2fe37d"
      },
      "execution_count": 3,
      "outputs": [
        {
          "output_type": "display_data",
          "data": {
            "text/plain": [
              "<Figure size 432x288 with 1 Axes>"
            ],
            "image/png": "[encoded data removed]"
          },
          "metadata": {
            "needs_background": "light"
          }
        }
      ]
    }
  ]
}