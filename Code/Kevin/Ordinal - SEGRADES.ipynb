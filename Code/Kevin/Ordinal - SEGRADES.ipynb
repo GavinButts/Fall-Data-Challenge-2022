{
  "nbformat": 4,
  "nbformat_minor": 0,
  "metadata": {
    "colab": {
      "provenance": [],
      "include_colab_link": true
    },
    "kernelspec": {
      "name": "python3",
      "display_name": "Python 3"
    },
    "language_info": {
      "name": "python"
    }
  },
  "cells": [
    {
      "cell_type": "markdown",
      "metadata": {
        "id": "view-in-github",
        "colab_type": "text"
      },
      "source": [
        "<a href=\"https://colab.research.google.com/github/GavinButts/Fall-Data-Challenge-2022/blob/main/Code/Kevin/Ordinal%20-%20SEGRADES.ipynb\" target=\"_parent\"><img src=\"https://colab.research.google.com/assets/colab-badge.svg\" alt=\"Open In Colab\"/></a>"
      ]
    },
    {
      "cell_type": "code",
      "execution_count": 1,
      "metadata": {
        "colab": {
          "base_uri": "https://localhost:8080/",
          "height": 295
        },
        "id": "_2AXZ-PcUN7-",
        "outputId": "91f26dd6-22ba-4b84-9806-d435ddd0decb"
      },
      "outputs": [
        {
          "output_type": "stream",
          "name": "stdout",
          "text": [
            "Looking in indexes: https://pypi.org/simple, https://us-python.pkg.dev/colab-wheels/public/simple/\n",
            "Requirement already satisfied: statsmodels in /usr/local/lib/python3.7/dist-packages (0.12.2)\n",
            "Collecting statsmodels\n",
            "  Downloading statsmodels-0.13.2-cp37-cp37m-manylinux_2_17_x86_64.manylinux2014_x86_64.whl (9.8 MB)\n",
            "\u001b[K     |████████████████████████████████| 9.8 MB 6.8 MB/s \n",
            "\u001b[?25hInstalling collected packages: statsmodels\n",
            "  Attempting uninstall: statsmodels\n",
            "    Found existing installation: statsmodels 0.12.2\n",
            "    Uninstalling statsmodels-0.12.2:\n",
            "      Successfully uninstalled statsmodels-0.12.2\n",
            "Successfully installed statsmodels-0.13.2\n"
          ]
        },
        {
          "output_type": "display_data",
          "data": {
            "application/vnd.colab-display-data+json": {
              "pip_warning": {
                "packages": [
                  "statsmodels"
                ]
              }
            }
          },
          "metadata": {}
        }
      ],
      "source": [
        "import pandas as pd\n",
        "import matplotlib as plt\n",
        "import numpy as np\n",
        "import seaborn as sns\n",
        "!pip install --upgrade --no-deps statsmodels\n",
        "import scipy.stats as stats\n"
      ]
    },
    {
      "cell_type": "code",
      "source": [
        "sheet_id = \"11rno0SjsOyV1JlevH3q40UMm1s5e6m7g\"\n",
        "sheet_name = \"curated_2019-required\"\n",
        "\n",
        "url = f\"https://docs.google.com/spreadsheets/d/{sheet_id}/gviz/tq?tqx=out:csv&sheet={sheet_name}\"\n",
        "\n",
        "df = pd.read_csv(url)\n",
        "print(df)"
      ],
      "metadata": {
        "id": "o8momRp8USvS",
        "colab": {
          "base_uri": "https://localhost:8080/"
        },
        "outputId": "fdfd5bfb-4e38-4d27-c77c-23786e6700c3"
      },
      "execution_count": 147,
      "outputs": [
        {
          "output_type": "stream",
          "name": "stdout",
          "text": [
            "            BASMID  ALLGRADEX  EDCPUB  SCCHOICE  SPUBCHOIX  SCONSIDR  \\\n",
            "0      20191000012         12       1         2          3         2   \n",
            "1      20191000029          4       1         2          3         2   \n",
            "2      20191000059         11       2         2          2         1   \n",
            "3      20191000070          6       1         1          1         1   \n",
            "4      20191000078          9       1         2          3         2   \n",
            "...            ...        ...     ...       ...        ...       ...   \n",
            "15495  20191225472          7       1         2          2         2   \n",
            "15496  20191225475          2       1         2          2         2   \n",
            "15497  20191225477         12       1         1          3         2   \n",
            "15498  20191225479         13       1         2          2         1   \n",
            "15499  20191225500         14       1         1          2         2   \n",
            "\n",
            "       SCHLHRSWK  EINTNET  MOSTIMPT  INTNUM  ...  SEFUTUREX  DSBLTY  \\\n",
            "0              4        4        -1      -1  ...          6       2   \n",
            "1              4        3        -1       2  ...          6       2   \n",
            "2              4        3         2       2  ...          5       2   \n",
            "3              4        4        -1      -1  ...          6       2   \n",
            "4              4        4        -1      -1  ...          6       2   \n",
            "...          ...      ...       ...     ...  ...        ...     ...   \n",
            "15495          4        4        -1      -1  ...          5       2   \n",
            "15496          4        4        -1      -1  ...          6       2   \n",
            "15497          4        4        -1      -1  ...          6       2   \n",
            "15498          4        4        -1      -1  ...          6       1   \n",
            "15499          3        4        -1      -1  ...          5       2   \n",
            "\n",
            "       HHPARN19X  HHPARN19_BRD  NUMSIBSX  PARGRADEX  RACEETH  INTACC  CENREG  \\\n",
            "0              1             1         1          3        4       1       4   \n",
            "1              2             2         1          3        3       1       4   \n",
            "2              2             2         1          5        2       3       2   \n",
            "3              2             2         1          2        3       1       2   \n",
            "4              1             1         1          5        5       1       2   \n",
            "...          ...           ...       ...        ...      ...     ...     ...   \n",
            "15495          1             1         2          4        4       1       3   \n",
            "15496          1             1         3          5        2       1       2   \n",
            "15497          1             1         2          2        3       1       1   \n",
            "15498          2             2         0          4        1       3       4   \n",
            "15499          1             1         1          5        1       1       2   \n",
            "\n",
            "       ZIPLOCL  \n",
            "0           11  \n",
            "1           12  \n",
            "2           11  \n",
            "3           31  \n",
            "4           21  \n",
            "...        ...  \n",
            "15495       23  \n",
            "15496       22  \n",
            "15497       13  \n",
            "15498       11  \n",
            "15499       21  \n",
            "\n",
            "[15500 rows x 75 columns]\n"
          ]
        }
      ]
    },
    {
      "cell_type": "code",
      "source": [
        "#create FOYESCNT variable that determines the amount of times each person said 'Yes' on the FO#### questions (ITEMS 72-74)\n",
        "#Legend:  Number of 'Yes'\n",
        "\n",
        "FOYESCNT = []      #variable that will be added to csv\n",
        "yesCount = 0\n",
        "for i in range(15500):\n",
        "  if df['FOSTORY2X'][i] == 1:\n",
        "    yesCount += 1\n",
        "  if df['FOCRAFTS'][i] == 1:\n",
        "    yesCount += 1\n",
        "  if df['FOGAMES'][i] == 1:\n",
        "    yesCount += 1\n",
        "  if df['FOBUILDX'][i] == 1:\n",
        "    yesCount += 1\n",
        "  if df['FOSPORT'][i] == 1:\n",
        "    yesCount += 1\n",
        "  if df['FORESPON'][i] == 1:\n",
        "    yesCount += 1\n",
        "  if df['FOHISTX'][i] == 1:\n",
        "    yesCount += 1\n",
        "  if df['FOLIBRAYX'][i] == 1:\n",
        "    yesCount += 1\n",
        "  if df['FOBOOKSTX'][i] == 1:\n",
        "    yesCount += 1\n",
        "  if df['FODINNERX'][i] != 0:\n",
        "    yesCount += 1\n",
        "  if df['FHCHECKX'][i] > 1:\n",
        "    yesCount += 1\n",
        "  if df['FHHELP'][i] > 1 and df['FHHELP'][i] < 5:\n",
        "    yesCount += 1\n",
        "\n",
        "  FOYESCNT.append(yesCount)\n",
        "  yesCount = 0\n",
        "\n",
        "df[\"FOYESCNT\"] = FOYESCNT\n",
        "df.to_csv(\"sample.csv\", index=False)  #adds variable to csv\n",
        "\n",
        "#create FSYESCNT variable that determines the amount of times each person said 'Yes' on the FS#### questions (ITEMS 60)\n",
        "#Legend:  Number of 'Yes'\n",
        "\n",
        "FSYESCNT = []      #variable that will be added to csv\n",
        "yesCount = 0\n",
        "FSYESCNT_LMH = []\n",
        "\n",
        "for i in range(15500):\n",
        "  if df['FSSPORTX'][i] == 1:\n",
        "    yesCount += 1\n",
        "  if df['FSVOL'][i] == 1: #bad\n",
        "    yesCount += 1\n",
        "  if df['FSMTNG'][i] == 1: #bad\n",
        "    yesCount += 1\n",
        "  if df['FSPTMTNG'][i] == 1:\n",
        "    yesCount += 1\n",
        "  if df['FSATCNFN'][i] == 1:\n",
        "    yesCount += 1\n",
        "  if df['FSFUNDRS'][i] == 1:\n",
        "    yesCount += 1\n",
        "  if df['FSCOMMTE'][i] == 1: #bad\n",
        "    yesCount += 1\n",
        "  if df['FSCOUNSLR'][i] == 1:\n",
        "    yesCount += 1\n",
        "  if df['FSFREQ'][i] > 0: #bad\n",
        "    yesCount += 1\n",
        "  if df['FSNOTESX'][i] == 1:\n",
        "    yesCount += 1\n",
        "\n",
        "    \n",
        "  FSYESCNT.append(yesCount)\n",
        "  if yesCount <= 3:\n",
        "    FSYESCNT_LMH.append('1) LOW INVOLVMENT')\n",
        "  elif yesCount > 3 and yesCount<=5:\n",
        "    FSYESCNT_LMH.append('2) MEDIUM INVOLVEMENT')\n",
        "  elif yesCount > 5:\n",
        "    FSYESCNT_LMH.append('3) HIGH INVOLVEMENT')\n",
        "  yesCount = 0\n",
        "\n",
        "df[\"FSYESCNT\"] = FSYESCNT\n",
        "df[\"FSYESCNT_LMH\"] = FSYESCNT_LMH\n",
        "\n",
        "df.to_csv(\"sample.csv\", index=False)  #adds variable to csv\n"
      ],
      "metadata": {
        "id": "GaWeR2yqUv9U"
      },
      "execution_count": 149,
      "outputs": []
    },
    {
      "cell_type": "code",
      "source": [
        "# delete all rows for students who answered 5 or -1\n",
        "'''\n",
        "df_clean = []\n",
        "for i in range(len(df)):\n",
        "  if !(df.SEGRADES[i] == -1 or df.SEGRADES[i] == 5):\n",
        "    df_clean.append(df[]) = df.drop(i)\n",
        "'''\n",
        "\n",
        "\n",
        "i = 0\n",
        "L = len(df.SEGRADES)\n",
        "while i < L:\n",
        "  if ((df.SEGRADES[i] == -1) or (df.SEGRADES[i] == 5)):\n",
        "    df = df.drop(i)\n",
        "  i+=1\n"
      ],
      "metadata": {
        "id": "oBoTz9NFhUGv"
      },
      "execution_count": 150,
      "outputs": []
    },
    {
      "cell_type": "code",
      "source": [
        "print(df['SEGRADES'])\n"
      ],
      "metadata": {
        "colab": {
          "base_uri": "https://localhost:8080/"
        },
        "id": "0XStgDp4kI_m",
        "outputId": "68d085df-a033-43f3-c96f-2c4714367138"
      },
      "execution_count": 151,
      "outputs": [
        {
          "output_type": "stream",
          "name": "stdout",
          "text": [
            "0        1\n",
            "2        3\n",
            "3        1\n",
            "4        1\n",
            "6        1\n",
            "        ..\n",
            "15494    4\n",
            "15495    1\n",
            "15497    1\n",
            "15498    1\n",
            "15499    2\n",
            "Name: SEGRADES, Length: 13533, dtype: int64\n"
          ]
        }
      ]
    },
    {
      "cell_type": "code",
      "source": [
        "#Data Pre-Processing\n",
        "from pandas.api.types import CategoricalDtype\n",
        "cat_type = CategoricalDtype(categories=[1,2,3,4], ordered=True)\n",
        "df[\"SEGRADES\"] = df[\"SEGRADES\"].astype(cat_type)\n",
        "df[\"SEGRADES\"].dtype"
      ],
      "metadata": {
        "colab": {
          "base_uri": "https://localhost:8080/"
        },
        "id": "DaxTXKxXWiu3",
        "outputId": "2751d92b-f81f-4b7f-8418-aec287a41ab9"
      },
      "execution_count": 152,
      "outputs": [
        {
          "output_type": "execute_result",
          "data": {
            "text/plain": [
              "CategoricalDtype(categories=[1, 2, 3, 4], ordered=True)"
            ]
          },
          "metadata": {},
          "execution_count": 152
        }
      ]
    },
    {
      "cell_type": "code",
      "source": [
        "from statsmodels.miscmodels.ordinal_model import OrderedModel"
      ],
      "metadata": {
        "id": "hteLBeDTb3v3"
      },
      "execution_count": 153,
      "outputs": []
    },
    {
      "cell_type": "code",
      "source": [
        "#['HHPARN19X','FHPLACE','SEABSNT','FSYESCNT','SEGRADES','FOYESCNT','RACEETH','TTLHHINC']\n",
        "x = ['ALLGRADEX','EDCPUB','SEGRADEQ','FOYESCNT','FSSPORTX','FSPTMTNG','HHPARN19X','TTLHHINC',\n",
        "     'FSNOTESX','FSCOUNSLR','FSFUNDRS','FSATCNFN','SEABSNT','RACEETH','OWNRNTHB','SEFUTUREX']\n",
        "mod_prob = OrderedModel(df['SEGRADES'],\n",
        "                        df[x],\n",
        "                        distr='logit')\n",
        " \n",
        "res_log = mod_prob.fit(method='bfgs')\n",
        "res_log.summary()\n"
      ],
      "metadata": {
        "colab": {
          "base_uri": "https://localhost:8080/",
          "height": 723
        },
        "id": "tjc9hN_V0bYy",
        "outputId": "46d79c0c-2334-4232-c883-f5fa56b19464"
      },
      "execution_count": 175,
      "outputs": [
        {
          "output_type": "stream",
          "name": "stdout",
          "text": [
            "Optimization terminated successfully.\n",
            "         Current function value: 0.628090\n",
            "         Iterations: 61\n",
            "         Function evaluations: 63\n",
            "         Gradient evaluations: 63\n"
          ]
        },
        {
          "output_type": "execute_result",
          "data": {
            "text/plain": [
              "<class 'statsmodels.iolib.summary.Summary'>\n",
              "\"\"\"\n",
              "                             OrderedModel Results                             \n",
              "==============================================================================\n",
              "Dep. Variable:               SEGRADES   Log-Likelihood:                -8499.9\n",
              "Model:                   OrderedModel   AIC:                         1.704e+04\n",
              "Method:            Maximum Likelihood   BIC:                         1.718e+04\n",
              "Date:                Fri, 28 Oct 2022                                         \n",
              "Time:                        22:51:51                                         \n",
              "No. Observations:               13533                                         \n",
              "Df Residuals:                   13514                                         \n",
              "Df Model:                          19                                         \n",
              "==============================================================================\n",
              "                 coef    std err          z      P>|z|      [0.025      0.975]\n",
              "------------------------------------------------------------------------------\n",
              "ALLGRADEX      0.0812      0.007     11.406      0.000       0.067       0.095\n",
              "EDCPUB        -0.2442      0.072     -3.394      0.001      -0.385      -0.103\n",
              "SEGRADEQ       2.1876      0.034     64.943      0.000       2.122       2.254\n",
              "FOYESCNT       0.0366      0.009      3.937      0.000       0.018       0.055\n",
              "FSSPORTX       0.2689      0.051      5.230      0.000       0.168       0.370\n",
              "FSPTMTNG      -0.1292      0.045     -2.903      0.004      -0.216      -0.042\n",
              "HHPARN19X      0.1842      0.026      7.080      0.000       0.133       0.235\n",
              "TTLHHINC      -0.0576      0.008     -7.038      0.000      -0.074      -0.042\n",
              "FSNOTESX      -0.1915      0.044     -4.350      0.000      -0.278      -0.105\n",
              "FSCOUNSLR     -0.2860      0.044     -6.516      0.000      -0.372      -0.200\n",
              "FSFUNDRS       0.2439      0.045      5.477      0.000       0.157       0.331\n",
              "FSATCNFN      -0.1212      0.049     -2.450      0.014      -0.218      -0.024\n",
              "SEABSNT        0.2516      0.036      7.064      0.000       0.182       0.321\n",
              "RACEETH        0.0648      0.017      3.861      0.000       0.032       0.098\n",
              "OWNRNTHB       0.0971      0.046      2.095      0.036       0.006       0.188\n",
              "SEFUTUREX     -0.2001      0.019    -10.774      0.000      -0.236      -0.164\n",
              "1/2            4.5481      0.247     18.394      0.000       4.063       5.033\n",
              "2/3            1.1850      0.015     81.453      0.000       1.156       1.214\n",
              "3/4            1.0634      0.027     39.203      0.000       1.010       1.117\n",
              "==============================================================================\n",
              "\"\"\""
            ],
            "text/html": [
              "<table class=\"simpletable\">\n",
              "<caption>OrderedModel Results</caption>\n",
              "<tr>\n",
              "  <th>Dep. Variable:</th>         <td>SEGRADES</td>      <th>  Log-Likelihood:    </th> <td> -8499.9</td> \n",
              "</tr>\n",
              "<tr>\n",
              "  <th>Model:</th>               <td>OrderedModel</td>    <th>  AIC:               </th> <td>1.704e+04</td>\n",
              "</tr>\n",
              "<tr>\n",
              "  <th>Method:</th>           <td>Maximum Likelihood</td> <th>  BIC:               </th> <td>1.718e+04</td>\n",
              "</tr>\n",
              "<tr>\n",
              "  <th>Date:</th>              <td>Fri, 28 Oct 2022</td>  <th>                     </th>     <td> </td>    \n",
              "</tr>\n",
              "<tr>\n",
              "  <th>Time:</th>                  <td>22:51:51</td>      <th>                     </th>     <td> </td>    \n",
              "</tr>\n",
              "<tr>\n",
              "  <th>No. Observations:</th>       <td> 13533</td>       <th>                     </th>     <td> </td>    \n",
              "</tr>\n",
              "<tr>\n",
              "  <th>Df Residuals:</th>           <td> 13514</td>       <th>                     </th>     <td> </td>    \n",
              "</tr>\n",
              "<tr>\n",
              "  <th>Df Model:</th>               <td>    19</td>       <th>                     </th>     <td> </td>    \n",
              "</tr>\n",
              "</table>\n",
              "<table class=\"simpletable\">\n",
              "<tr>\n",
              "      <td></td>         <th>coef</th>     <th>std err</th>      <th>z</th>      <th>P>|z|</th>  <th>[0.025</th>    <th>0.975]</th>  \n",
              "</tr>\n",
              "<tr>\n",
              "  <th>ALLGRADEX</th> <td>    0.0812</td> <td>    0.007</td> <td>   11.406</td> <td> 0.000</td> <td>    0.067</td> <td>    0.095</td>\n",
              "</tr>\n",
              "<tr>\n",
              "  <th>EDCPUB</th>    <td>   -0.2442</td> <td>    0.072</td> <td>   -3.394</td> <td> 0.001</td> <td>   -0.385</td> <td>   -0.103</td>\n",
              "</tr>\n",
              "<tr>\n",
              "  <th>SEGRADEQ</th>  <td>    2.1876</td> <td>    0.034</td> <td>   64.943</td> <td> 0.000</td> <td>    2.122</td> <td>    2.254</td>\n",
              "</tr>\n",
              "<tr>\n",
              "  <th>FOYESCNT</th>  <td>    0.0366</td> <td>    0.009</td> <td>    3.937</td> <td> 0.000</td> <td>    0.018</td> <td>    0.055</td>\n",
              "</tr>\n",
              "<tr>\n",
              "  <th>FSSPORTX</th>  <td>    0.2689</td> <td>    0.051</td> <td>    5.230</td> <td> 0.000</td> <td>    0.168</td> <td>    0.370</td>\n",
              "</tr>\n",
              "<tr>\n",
              "  <th>FSPTMTNG</th>  <td>   -0.1292</td> <td>    0.045</td> <td>   -2.903</td> <td> 0.004</td> <td>   -0.216</td> <td>   -0.042</td>\n",
              "</tr>\n",
              "<tr>\n",
              "  <th>HHPARN19X</th> <td>    0.1842</td> <td>    0.026</td> <td>    7.080</td> <td> 0.000</td> <td>    0.133</td> <td>    0.235</td>\n",
              "</tr>\n",
              "<tr>\n",
              "  <th>TTLHHINC</th>  <td>   -0.0576</td> <td>    0.008</td> <td>   -7.038</td> <td> 0.000</td> <td>   -0.074</td> <td>   -0.042</td>\n",
              "</tr>\n",
              "<tr>\n",
              "  <th>FSNOTESX</th>  <td>   -0.1915</td> <td>    0.044</td> <td>   -4.350</td> <td> 0.000</td> <td>   -0.278</td> <td>   -0.105</td>\n",
              "</tr>\n",
              "<tr>\n",
              "  <th>FSCOUNSLR</th> <td>   -0.2860</td> <td>    0.044</td> <td>   -6.516</td> <td> 0.000</td> <td>   -0.372</td> <td>   -0.200</td>\n",
              "</tr>\n",
              "<tr>\n",
              "  <th>FSFUNDRS</th>  <td>    0.2439</td> <td>    0.045</td> <td>    5.477</td> <td> 0.000</td> <td>    0.157</td> <td>    0.331</td>\n",
              "</tr>\n",
              "<tr>\n",
              "  <th>FSATCNFN</th>  <td>   -0.1212</td> <td>    0.049</td> <td>   -2.450</td> <td> 0.014</td> <td>   -0.218</td> <td>   -0.024</td>\n",
              "</tr>\n",
              "<tr>\n",
              "  <th>SEABSNT</th>   <td>    0.2516</td> <td>    0.036</td> <td>    7.064</td> <td> 0.000</td> <td>    0.182</td> <td>    0.321</td>\n",
              "</tr>\n",
              "<tr>\n",
              "  <th>RACEETH</th>   <td>    0.0648</td> <td>    0.017</td> <td>    3.861</td> <td> 0.000</td> <td>    0.032</td> <td>    0.098</td>\n",
              "</tr>\n",
              "<tr>\n",
              "  <th>OWNRNTHB</th>  <td>    0.0971</td> <td>    0.046</td> <td>    2.095</td> <td> 0.036</td> <td>    0.006</td> <td>    0.188</td>\n",
              "</tr>\n",
              "<tr>\n",
              "  <th>SEFUTUREX</th> <td>   -0.2001</td> <td>    0.019</td> <td>  -10.774</td> <td> 0.000</td> <td>   -0.236</td> <td>   -0.164</td>\n",
              "</tr>\n",
              "<tr>\n",
              "  <th>1/2</th>       <td>    4.5481</td> <td>    0.247</td> <td>   18.394</td> <td> 0.000</td> <td>    4.063</td> <td>    5.033</td>\n",
              "</tr>\n",
              "<tr>\n",
              "  <th>2/3</th>       <td>    1.1850</td> <td>    0.015</td> <td>   81.453</td> <td> 0.000</td> <td>    1.156</td> <td>    1.214</td>\n",
              "</tr>\n",
              "<tr>\n",
              "  <th>3/4</th>       <td>    1.0634</td> <td>    0.027</td> <td>   39.203</td> <td> 0.000</td> <td>    1.010</td> <td>    1.117</td>\n",
              "</tr>\n",
              "</table>"
            ]
          },
          "metadata": {},
          "execution_count": 175
        }
      ]
    },
    {
      "cell_type": "code",
      "source": [
        "predicted = res_log.model.predict(res_log.params, exog=df[x])\n",
        "predicted\n"
      ],
      "metadata": {
        "colab": {
          "base_uri": "https://localhost:8080/"
        },
        "id": "IyiShiUT5VCK",
        "outputId": "e79e50d5-493e-4534-f5ee-be4926c0659c"
      },
      "execution_count": 176,
      "outputs": [
        {
          "output_type": "stream",
          "name": "stderr",
          "text": [
            "/usr/local/lib/python3.7/dist-packages/statsmodels/miscmodels/ordinal_model.py:419: FutureWarning: Support for multi-dimensional indexing (e.g. `obj[:, None]`) is deprecated and will be removed in a future version.  Convert to a numpy array before indexing instead.\n",
            "  xb = xb[:, None]\n"
          ]
        },
        {
          "output_type": "execute_result",
          "data": {
            "text/plain": [
              "array([[9.34758253e-01, 6.25980047e-02, 2.49735448e-03, 1.46387428e-04],\n",
              "       [1.13039889e-02, 2.20081063e-01, 6.13585644e-01, 1.55029304e-01],\n",
              "       [9.08670457e-01, 8.75268376e-02, 3.59191345e-03, 2.10792140e-04],\n",
              "       ...,\n",
              "       [3.33308743e-01, 5.96088463e-01, 6.64244827e-02, 4.17831064e-03],\n",
              "       [8.69003925e-01, 1.25303618e-01, 5.37634533e-03, 3.16111524e-04],\n",
              "       [1.55897688e-01, 6.73540465e-01, 1.59331540e-01, 1.12303076e-02]])"
            ]
          },
          "metadata": {},
          "execution_count": 176
        }
      ]
    },
    {
      "cell_type": "code",
      "source": [
        "pred_choice = predicted.argmax(1)\n",
        "print('Fraction of correct choice predictions')\n",
        "print((np.asarray(df['SEGRADES'].values.codes) == pred_choice).mean())\n"
      ],
      "metadata": {
        "id": "Jy64s5FJ6jjK",
        "outputId": "2eb0c27e-4019-401e-90a5-c3e33390a098",
        "colab": {
          "base_uri": "https://localhost:8080/"
        }
      },
      "execution_count": 177,
      "outputs": [
        {
          "output_type": "stream",
          "name": "stdout",
          "text": [
            "Fraction of correct choice predictions\n",
            "0.721347816448681\n"
          ]
        }
      ]
    },
    {
      "cell_type": "code",
      "source": [],
      "metadata": {
        "id": "7y-Gmhzck_vp"
      },
      "execution_count": null,
      "outputs": []
    }
  ]
}