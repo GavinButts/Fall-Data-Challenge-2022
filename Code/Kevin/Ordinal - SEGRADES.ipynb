{
  "nbformat": 4,
  "nbformat_minor": 0,
  "metadata": {
    "colab": {
      "provenance": [],
      "include_colab_link": true
    },
    "kernelspec": {
      "name": "python3",
      "display_name": "Python 3"
    },
    "language_info": {
      "name": "python"
    }
  },
  "cells": [
    {
      "cell_type": "markdown",
      "metadata": {
        "id": "view-in-github",
        "colab_type": "text"
      },
      "source": [
        "<a href=\"https://colab.research.google.com/github/GavinButts/Fall-Data-Challenge-2022/blob/main/Code/Kevin/Ordinal%20-%20SEGRADES.ipynb\" target=\"_parent\"><img src=\"https://colab.research.google.com/assets/colab-badge.svg\" alt=\"Open In Colab\"/></a>"
      ]
    },
    {
      "cell_type": "code",
      "execution_count": 1,
      "metadata": {
        "colab": {
          "base_uri": "https://localhost:8080/",
          "height": 295
        },
        "id": "_2AXZ-PcUN7-",
        "outputId": "cc8a3902-2c0b-415d-bbca-09e31d9c6877"
      },
      "outputs": [
        {
          "output_type": "stream",
          "name": "stdout",
          "text": [
            "Looking in indexes: https://pypi.org/simple, https://us-python.pkg.dev/colab-wheels/public/simple/\n",
            "Requirement already satisfied: statsmodels in /usr/local/lib/python3.7/dist-packages (0.12.2)\n",
            "Collecting statsmodels\n",
            "  Downloading statsmodels-0.13.2-cp37-cp37m-manylinux_2_17_x86_64.manylinux2014_x86_64.whl (9.8 MB)\n",
            "\u001b[K     |████████████████████████████████| 9.8 MB 38.4 MB/s \n",
            "\u001b[?25hInstalling collected packages: statsmodels\n",
            "  Attempting uninstall: statsmodels\n",
            "    Found existing installation: statsmodels 0.12.2\n",
            "    Uninstalling statsmodels-0.12.2:\n",
            "      Successfully uninstalled statsmodels-0.12.2\n",
            "Successfully installed statsmodels-0.13.2\n"
          ]
        },
        {
          "output_type": "display_data",
          "data": {
            "application/vnd.colab-display-data+json": {
              "pip_warning": {
                "packages": [
                  "statsmodels"
                ]
              }
            }
          },
          "metadata": {}
        }
      ],
      "source": [
        "import pandas as pd\n",
        "import matplotlib as plt\n",
        "import numpy as np\n",
        "import seaborn as sns\n",
        "!pip install --upgrade --no-deps statsmodels\n",
        "import scipy.stats as stats\n"
      ]
    },
    {
      "cell_type": "code",
      "source": [
        "sheet_id = \"11rno0SjsOyV1JlevH3q40UMm1s5e6m7g\"\n",
        "sheet_name = \"curated_2019-required\"\n",
        "\n",
        "url = f\"https://docs.google.com/spreadsheets/d/{sheet_id}/gviz/tq?tqx=out:csv&sheet={sheet_name}\"\n",
        "\n",
        "df = pd.read_csv(url)\n"
      ],
      "metadata": {
        "id": "o8momRp8USvS"
      },
      "execution_count": 2,
      "outputs": []
    },
    {
      "cell_type": "code",
      "source": [
        "#create FOYESCNT variable that determines the amount of times each person said 'Yes' on the FO#### questions (ITEMS 72-74)\n",
        "#Legend:  Number of 'Yes'\n",
        "\n",
        "FOYESCNT = []      #variable that will be added to csv\n",
        "yesCount = 0\n",
        "for i in range(15500):\n",
        "  if df['FOSTORY2X'][i] == 1:\n",
        "    yesCount += 1\n",
        "  if df['FOCRAFTS'][i] == 1:\n",
        "    yesCount += 1\n",
        "  if df['FOGAMES'][i] == 1:\n",
        "    yesCount += 1\n",
        "  if df['FOBUILDX'][i] == 1:\n",
        "    yesCount += 1\n",
        "  if df['FOSPORT'][i] == 1:\n",
        "    yesCount += 1\n",
        "  if df['FORESPON'][i] == 1:\n",
        "    yesCount += 1\n",
        "  if df['FOHISTX'][i] == 1:\n",
        "    yesCount += 1\n",
        "  if df['FOLIBRAYX'][i] == 1:\n",
        "    yesCount += 1\n",
        "  if df['FOBOOKSTX'][i] == 1:\n",
        "    yesCount += 1\n",
        "  if df['FODINNERX'][i] != 0:\n",
        "    yesCount += 1\n",
        "  FOYESCNT.append(yesCount)\n",
        "  yesCount = 0\n",
        "\n",
        "df[\"FOYESCNT\"] = FOYESCNT\n",
        "df.to_csv(\"sample.csv\", index=False)  #adds variable to csv\n",
        "\n",
        "#create FSYESCNT variable that determines the amount of times each person said 'Yes' on the FS#### questions (ITEMS 60)\n",
        "#Legend:  Number of 'Yes'\n",
        "\n",
        "FSYESCNT = []      #variable that will be added to csv\n",
        "yesCount = 0\n",
        "FSYESCNT_LMH = []\n",
        "\n",
        "for i in range(15500):\n",
        "  if df['FSSPORTX'][i] == 1:\n",
        "    yesCount += 1\n",
        "  if df['FSVOL'][i] == 1:\n",
        "    yesCount += 1\n",
        "  if df['FSMTNG'][i] == 1:\n",
        "    yesCount += 1\n",
        "  if df['FSPTMTNG'][i] == 1:\n",
        "    yesCount += 1\n",
        "  if df['FSATCNFN'][i] == 1:\n",
        "    yesCount += 1\n",
        "  if df['FSFUNDRS'][i] == 1:\n",
        "    yesCount += 1\n",
        "  if df['FSCOMMTE'][i] == 1:\n",
        "    yesCount += 1\n",
        "  if df['FSCOUNSLR'][i] == 1:\n",
        "    yesCount += 1\n",
        "  FSYESCNT.append(yesCount)\n",
        "  if yesCount <= 3:\n",
        "    FSYESCNT_LMH.append('1) LOW INVOLVMENT')\n",
        "  elif yesCount > 3 and yesCount<=5:\n",
        "    FSYESCNT_LMH.append('2) MEDIUM INVOLVEMENT')\n",
        "  elif yesCount > 5:\n",
        "    FSYESCNT_LMH.append('3) HIGH INVOLVEMENT')\n",
        "  yesCount = 0\n",
        "\n",
        "df[\"FSYESCNT\"] = FSYESCNT\n",
        "df[\"FSYESCNT_LMH\"] = FSYESCNT_LMH\n",
        "\n",
        "df.to_csv(\"sample.csv\", index=False)  #adds variable to csv\n"
      ],
      "metadata": {
        "id": "GaWeR2yqUv9U"
      },
      "execution_count": 3,
      "outputs": []
    },
    {
      "cell_type": "code",
      "source": [
        "#Data Pre-Processing\n",
        "from pandas.api.types import CategoricalDtype\n",
        "cat_type = CategoricalDtype(categories=[-1,1,2,3,4,5], ordered=True)\n",
        "df[\"SEGRADES\"] = df[\"SEGRADES\"].astype(cat_type)\n",
        "df[\"SEGRADES\"].dtype"
      ],
      "metadata": {
        "colab": {
          "base_uri": "https://localhost:8080/"
        },
        "id": "DaxTXKxXWiu3",
        "outputId": "73b79a6b-6928-4910-c77d-65f70468f27a"
      },
      "execution_count": 4,
      "outputs": [
        {
          "output_type": "execute_result",
          "data": {
            "text/plain": [
              "CategoricalDtype(categories=[-1, 1, 2, 3, 4, 5], ordered=True)"
            ]
          },
          "metadata": {},
          "execution_count": 4
        }
      ]
    },
    {
      "cell_type": "code",
      "source": [
        "from statsmodels.miscmodels.ordinal_model import OrderedModel"
      ],
      "metadata": {
        "id": "hteLBeDTb3v3"
      },
      "execution_count": 5,
      "outputs": []
    },
    {
      "cell_type": "code",
      "source": [
        "from os import XATTR_CREATE\n",
        "#['HHPARN19X','FHPLACE','SEABSNT','FSYESCNT','SEGRADES','FOYESCNT','RACEETH','TTLHHINC']\n",
        "x = ['ALLGRADEX','EDCPUB','SEGRADEQ','FHPLACE',\n",
        "     'SEABSNT','RACEETH','OWNRNTHB','SEFUTUREX']\n",
        "mod_prob = OrderedModel(df['SEGRADES'],\n",
        "                        df[x],\n",
        "                        distr='logit')\n",
        " \n",
        "res_log = mod_prob.fit(method='bfgs')\n",
        "res_log.summary()\n"
      ],
      "metadata": {
        "colab": {
          "base_uri": "https://localhost:8080/",
          "height": 595
        },
        "id": "tjc9hN_V0bYy",
        "outputId": "ddde4f6e-7442-49cd-e6fc-61f1f06556b8"
      },
      "execution_count": 13,
      "outputs": [
        {
          "output_type": "stream",
          "name": "stdout",
          "text": [
            "Optimization terminated successfully.\n",
            "         Current function value: 1.028578\n",
            "         Iterations: 44\n",
            "         Function evaluations: 47\n",
            "         Gradient evaluations: 47\n"
          ]
        },
        {
          "output_type": "execute_result",
          "data": {
            "text/plain": [
              "<class 'statsmodels.iolib.summary.Summary'>\n",
              "\"\"\"\n",
              "                             OrderedModel Results                             \n",
              "==============================================================================\n",
              "Dep. Variable:               SEGRADES   Log-Likelihood:                -15943.\n",
              "Model:                   OrderedModel   AIC:                         3.191e+04\n",
              "Method:            Maximum Likelihood   BIC:                         3.201e+04\n",
              "Date:                Fri, 28 Oct 2022                                         \n",
              "Time:                        17:22:46                                         \n",
              "No. Observations:               15500                                         \n",
              "Df Residuals:                   15487                                         \n",
              "Df Model:                          13                                         \n",
              "==============================================================================\n",
              "                 coef    std err          z      P>|z|      [0.025      0.975]\n",
              "------------------------------------------------------------------------------\n",
              "ALLGRADEX     -0.1435      0.005    -31.297      0.000      -0.152      -0.134\n",
              "EDCPUB        -0.1508      0.055     -2.717      0.007      -0.260      -0.042\n",
              "SEGRADEQ       1.3201      0.022     60.044      0.000       1.277       1.363\n",
              "FHPLACE       -0.1776      0.025     -7.202      0.000      -0.226      -0.129\n",
              "SEABSNT        0.2132      0.028      7.506      0.000       0.158       0.269\n",
              "RACEETH        0.0383      0.013      2.942      0.003       0.013       0.064\n",
              "OWNRNTHB       0.1196      0.034      3.510      0.000       0.053       0.186\n",
              "SEFUTUREX     -0.1267      0.014     -8.827      0.000      -0.155      -0.099\n",
              "-1/1          -8.9484      0.719    -12.454      0.000     -10.357      -7.540\n",
              "1/2            2.2762      0.072     31.408      0.000       2.134       2.418\n",
              "2/3            0.6126      0.014     43.935      0.000       0.585       0.640\n",
              "3/4           -0.2979      0.026    -11.274      0.000      -0.350      -0.246\n",
              "4/5           -1.8329      0.063    -29.153      0.000      -1.956      -1.710\n",
              "==============================================================================\n",
              "\"\"\""
            ],
            "text/html": [
              "<table class=\"simpletable\">\n",
              "<caption>OrderedModel Results</caption>\n",
              "<tr>\n",
              "  <th>Dep. Variable:</th>         <td>SEGRADES</td>      <th>  Log-Likelihood:    </th> <td> -15943.</td> \n",
              "</tr>\n",
              "<tr>\n",
              "  <th>Model:</th>               <td>OrderedModel</td>    <th>  AIC:               </th> <td>3.191e+04</td>\n",
              "</tr>\n",
              "<tr>\n",
              "  <th>Method:</th>           <td>Maximum Likelihood</td> <th>  BIC:               </th> <td>3.201e+04</td>\n",
              "</tr>\n",
              "<tr>\n",
              "  <th>Date:</th>              <td>Fri, 28 Oct 2022</td>  <th>                     </th>     <td> </td>    \n",
              "</tr>\n",
              "<tr>\n",
              "  <th>Time:</th>                  <td>17:22:46</td>      <th>                     </th>     <td> </td>    \n",
              "</tr>\n",
              "<tr>\n",
              "  <th>No. Observations:</th>       <td> 15500</td>       <th>                     </th>     <td> </td>    \n",
              "</tr>\n",
              "<tr>\n",
              "  <th>Df Residuals:</th>           <td> 15487</td>       <th>                     </th>     <td> </td>    \n",
              "</tr>\n",
              "<tr>\n",
              "  <th>Df Model:</th>               <td>    13</td>       <th>                     </th>     <td> </td>    \n",
              "</tr>\n",
              "</table>\n",
              "<table class=\"simpletable\">\n",
              "<tr>\n",
              "      <td></td>         <th>coef</th>     <th>std err</th>      <th>z</th>      <th>P>|z|</th>  <th>[0.025</th>    <th>0.975]</th>  \n",
              "</tr>\n",
              "<tr>\n",
              "  <th>ALLGRADEX</th> <td>   -0.1435</td> <td>    0.005</td> <td>  -31.297</td> <td> 0.000</td> <td>   -0.152</td> <td>   -0.134</td>\n",
              "</tr>\n",
              "<tr>\n",
              "  <th>EDCPUB</th>    <td>   -0.1508</td> <td>    0.055</td> <td>   -2.717</td> <td> 0.007</td> <td>   -0.260</td> <td>   -0.042</td>\n",
              "</tr>\n",
              "<tr>\n",
              "  <th>SEGRADEQ</th>  <td>    1.3201</td> <td>    0.022</td> <td>   60.044</td> <td> 0.000</td> <td>    1.277</td> <td>    1.363</td>\n",
              "</tr>\n",
              "<tr>\n",
              "  <th>FHPLACE</th>   <td>   -0.1776</td> <td>    0.025</td> <td>   -7.202</td> <td> 0.000</td> <td>   -0.226</td> <td>   -0.129</td>\n",
              "</tr>\n",
              "<tr>\n",
              "  <th>SEABSNT</th>   <td>    0.2132</td> <td>    0.028</td> <td>    7.506</td> <td> 0.000</td> <td>    0.158</td> <td>    0.269</td>\n",
              "</tr>\n",
              "<tr>\n",
              "  <th>RACEETH</th>   <td>    0.0383</td> <td>    0.013</td> <td>    2.942</td> <td> 0.003</td> <td>    0.013</td> <td>    0.064</td>\n",
              "</tr>\n",
              "<tr>\n",
              "  <th>OWNRNTHB</th>  <td>    0.1196</td> <td>    0.034</td> <td>    3.510</td> <td> 0.000</td> <td>    0.053</td> <td>    0.186</td>\n",
              "</tr>\n",
              "<tr>\n",
              "  <th>SEFUTUREX</th> <td>   -0.1267</td> <td>    0.014</td> <td>   -8.827</td> <td> 0.000</td> <td>   -0.155</td> <td>   -0.099</td>\n",
              "</tr>\n",
              "<tr>\n",
              "  <th>-1/1</th>      <td>   -8.9484</td> <td>    0.719</td> <td>  -12.454</td> <td> 0.000</td> <td>  -10.357</td> <td>   -7.540</td>\n",
              "</tr>\n",
              "<tr>\n",
              "  <th>1/2</th>       <td>    2.2762</td> <td>    0.072</td> <td>   31.408</td> <td> 0.000</td> <td>    2.134</td> <td>    2.418</td>\n",
              "</tr>\n",
              "<tr>\n",
              "  <th>2/3</th>       <td>    0.6126</td> <td>    0.014</td> <td>   43.935</td> <td> 0.000</td> <td>    0.585</td> <td>    0.640</td>\n",
              "</tr>\n",
              "<tr>\n",
              "  <th>3/4</th>       <td>   -0.2979</td> <td>    0.026</td> <td>  -11.274</td> <td> 0.000</td> <td>   -0.350</td> <td>   -0.246</td>\n",
              "</tr>\n",
              "<tr>\n",
              "  <th>4/5</th>       <td>   -1.8329</td> <td>    0.063</td> <td>  -29.153</td> <td> 0.000</td> <td>   -1.956</td> <td>   -1.710</td>\n",
              "</tr>\n",
              "</table>"
            ]
          },
          "metadata": {},
          "execution_count": 13
        }
      ]
    },
    {
      "cell_type": "code",
      "source": [
        "predicted = res_log.model.predict(res_log.params, exog=df[x])\n",
        "predicted\n"
      ],
      "metadata": {
        "colab": {
          "base_uri": "https://localhost:8080/"
        },
        "id": "IyiShiUT5VCK",
        "outputId": "03eacdf8-3a94-4f0e-8faf-b9c823a50ddf"
      },
      "execution_count": 14,
      "outputs": [
        {
          "output_type": "stream",
          "name": "stderr",
          "text": [
            "/usr/local/lib/python3.7/dist-packages/statsmodels/miscmodels/ordinal_model.py:419: FutureWarning: Support for multi-dimensional indexing (e.g. `obj[:, None]`) is deprecated and will be removed in a future version.  Convert to a numpy array before indexing instead.\n",
            "  xb = xb[:, None]\n"
          ]
        },
        {
          "output_type": "execute_result",
          "data": {
            "text/plain": [
              "array([[3.14419441e-04, 8.41885878e-01, 1.29046644e-01, 1.48579501e-02,\n",
              "        2.02958639e-03, 1.18655222e-02],\n",
              "       [7.39920445e-06, 1.11546003e-01, 3.31241705e-01, 1.82612090e-01,\n",
              "        3.66598735e-02, 3.37932929e-01],\n",
              "       [5.74282371e-06, 8.87927616e-02, 2.92686713e-01, 1.82939719e-01,\n",
              "        3.88420471e-02, 3.96733017e-01],\n",
              "       ...,\n",
              "       [8.72823191e-05, 5.96889532e-01, 3.06636151e-01, 4.80686622e-02,\n",
              "        6.84615211e-03, 4.14722202e-02],\n",
              "       [4.07124323e-04, 8.73193281e-01, 1.04049477e-01, 1.15859426e-02,\n",
              "        1.57652801e-03, 9.18764660e-03],\n",
              "       [3.33020452e-05, 3.61042271e-01, 4.20427367e-01, 1.01050467e-01,\n",
              "        1.55925405e-02, 1.01854052e-01]])"
            ]
          },
          "metadata": {},
          "execution_count": 14
        }
      ]
    },
    {
      "cell_type": "code",
      "source": [
        "pred_choice = predicted.argmax(1)\n",
        "print('Fraction of correct choice predictions')\n",
        "print((np.asarray(df['SEGRADES'].values.codes) == pred_choice).mean())\n"
      ],
      "metadata": {
        "id": "Jy64s5FJ6jjK",
        "outputId": "8da75090-8841-4bb8-f456-17b9690cd1b1",
        "colab": {
          "base_uri": "https://localhost:8080/"
        }
      },
      "execution_count": 16,
      "outputs": [
        {
          "output_type": "stream",
          "name": "stdout",
          "text": [
            "Fraction of correct choice predictions\n",
            "0.594\n"
          ]
        }
      ]
    },
    {
      "cell_type": "code",
      "source": [],
      "metadata": {
        "id": "7y-Gmhzck_vp"
      },
      "execution_count": null,
      "outputs": []
    }
  ]
}