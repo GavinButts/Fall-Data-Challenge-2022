{
  "nbformat": 4,
  "nbformat_minor": 0,
  "metadata": {
    "colab": {
      "provenance": [],
      "include_colab_link": true
    },
    "kernelspec": {
      "name": "python3",
      "display_name": "Python 3"
    },
    "language_info": {
      "name": "python"
    }
  },
  "cells": [
    {
      "cell_type": "markdown",
      "metadata": {
        "id": "view-in-github",
        "colab_type": "text"
      },
      "source": [
        "<a href=\"https://colab.research.google.com/github/GavinButts/Fall-Data-Challenge-2022/blob/main/Code/Kevin/Ordinal%20-%20SEGRADES.ipynb\" target=\"_parent\"><img src=\"https://colab.research.google.com/assets/colab-badge.svg\" alt=\"Open In Colab\"/></a>"
      ]
    },
    {
      "cell_type": "code",
      "execution_count": 1,
      "metadata": {
        "colab": {
          "base_uri": "https://localhost:8080/",
          "height": 295
        },
        "id": "_2AXZ-PcUN7-",
        "outputId": "91f26dd6-22ba-4b84-9806-d435ddd0decb"
      },
      "outputs": [
        {
          "output_type": "stream",
          "name": "stdout",
          "text": [
            "Looking in indexes: https://pypi.org/simple, https://us-python.pkg.dev/colab-wheels/public/simple/\n",
            "Requirement already satisfied: statsmodels in /usr/local/lib/python3.7/dist-packages (0.12.2)\n",
            "Collecting statsmodels\n",
            "  Downloading statsmodels-0.13.2-cp37-cp37m-manylinux_2_17_x86_64.manylinux2014_x86_64.whl (9.8 MB)\n",
            "\u001b[K     |████████████████████████████████| 9.8 MB 6.8 MB/s \n",
            "\u001b[?25hInstalling collected packages: statsmodels\n",
            "  Attempting uninstall: statsmodels\n",
            "    Found existing installation: statsmodels 0.12.2\n",
            "    Uninstalling statsmodels-0.12.2:\n",
            "      Successfully uninstalled statsmodels-0.12.2\n",
            "Successfully installed statsmodels-0.13.2\n"
          ]
        },
        {
          "output_type": "display_data",
          "data": {
            "application/vnd.colab-display-data+json": {
              "pip_warning": {
                "packages": [
                  "statsmodels"
                ]
              }
            }
          },
          "metadata": {}
        }
      ],
      "source": [
        "import pandas as pd\n",
        "import matplotlib as plt\n",
        "import numpy as np\n",
        "import seaborn as sns\n",
        "!pip install --upgrade --no-deps statsmodels\n",
        "import scipy.stats as stats\n"
      ]
    },
    {
      "cell_type": "code",
      "source": [
        "sheet_id = \"11rno0SjsOyV1JlevH3q40UMm1s5e6m7g\"\n",
        "sheet_name = \"curated_2019-required\"\n",
        "\n",
        "url = f\"https://docs.google.com/spreadsheets/d/{sheet_id}/gviz/tq?tqx=out:csv&sheet={sheet_name}\"\n",
        "\n",
        "df = pd.read_csv(url)\n",
        "print(df)"
      ],
      "metadata": {
        "id": "o8momRp8USvS",
        "colab": {
          "base_uri": "https://localhost:8080/"
        },
        "outputId": "35be0514-40c6-43e9-cb66-13e364160965"
      },
      "execution_count": 41,
      "outputs": [
        {
          "output_type": "stream",
          "name": "stdout",
          "text": [
            "            BASMID  ALLGRADEX  EDCPUB  SCCHOICE  SPUBCHOIX  SCONSIDR  \\\n",
            "0      20191000012         12       1         2          3         2   \n",
            "1      20191000029          4       1         2          3         2   \n",
            "2      20191000059         11       2         2          2         1   \n",
            "3      20191000070          6       1         1          1         1   \n",
            "4      20191000078          9       1         2          3         2   \n",
            "...            ...        ...     ...       ...        ...       ...   \n",
            "15495  20191225472          7       1         2          2         2   \n",
            "15496  20191225475          2       1         2          2         2   \n",
            "15497  20191225477         12       1         1          3         2   \n",
            "15498  20191225479         13       1         2          2         1   \n",
            "15499  20191225500         14       1         1          2         2   \n",
            "\n",
            "       SCHLHRSWK  EINTNET  MOSTIMPT  INTNUM  ...  SEFUTUREX  DSBLTY  \\\n",
            "0              4        4        -1      -1  ...          6       2   \n",
            "1              4        3        -1       2  ...          6       2   \n",
            "2              4        3         2       2  ...          5       2   \n",
            "3              4        4        -1      -1  ...          6       2   \n",
            "4              4        4        -1      -1  ...          6       2   \n",
            "...          ...      ...       ...     ...  ...        ...     ...   \n",
            "15495          4        4        -1      -1  ...          5       2   \n",
            "15496          4        4        -1      -1  ...          6       2   \n",
            "15497          4        4        -1      -1  ...          6       2   \n",
            "15498          4        4        -1      -1  ...          6       1   \n",
            "15499          3        4        -1      -1  ...          5       2   \n",
            "\n",
            "       HHPARN19X  HHPARN19_BRD  NUMSIBSX  PARGRADEX  RACEETH  INTACC  CENREG  \\\n",
            "0              1             1         1          3        4       1       4   \n",
            "1              2             2         1          3        3       1       4   \n",
            "2              2             2         1          5        2       3       2   \n",
            "3              2             2         1          2        3       1       2   \n",
            "4              1             1         1          5        5       1       2   \n",
            "...          ...           ...       ...        ...      ...     ...     ...   \n",
            "15495          1             1         2          4        4       1       3   \n",
            "15496          1             1         3          5        2       1       2   \n",
            "15497          1             1         2          2        3       1       1   \n",
            "15498          2             2         0          4        1       3       4   \n",
            "15499          1             1         1          5        1       1       2   \n",
            "\n",
            "       ZIPLOCL  \n",
            "0           11  \n",
            "1           12  \n",
            "2           11  \n",
            "3           31  \n",
            "4           21  \n",
            "...        ...  \n",
            "15495       23  \n",
            "15496       22  \n",
            "15497       13  \n",
            "15498       11  \n",
            "15499       21  \n",
            "\n",
            "[15500 rows x 75 columns]\n"
          ]
        }
      ]
    },
    {
      "cell_type": "code",
      "source": [
        "#create FOYESCNT variable that determines the amount of times each person said 'Yes' on the FO#### questions (ITEMS 72-74)\n",
        "#Legend:  Number of 'Yes'\n",
        "\n",
        "FOYESCNT = []      #variable that will be added to csv\n",
        "yesCount = 0\n",
        "for i in range(15500):\n",
        "  if df['FOSTORY2X'][i] == 1:\n",
        "    yesCount += 1\n",
        "  if df['FOCRAFTS'][i] == 1:\n",
        "    yesCount += 1\n",
        "  if df['FOGAMES'][i] == 1:\n",
        "    yesCount += 1\n",
        "  if df['FOBUILDX'][i] == 1:\n",
        "    yesCount += 1\n",
        "  if df['FOSPORT'][i] == 1:\n",
        "    yesCount += 1\n",
        "  if df['FORESPON'][i] == 1:\n",
        "    yesCount += 1\n",
        "  if df['FOHISTX'][i] == 1:\n",
        "    yesCount += 1\n",
        "  if df['FOLIBRAYX'][i] == 1:\n",
        "    yesCount += 1\n",
        "  if df['FOBOOKSTX'][i] == 1:\n",
        "    yesCount += 1\n",
        "  if df['FODINNERX'][i] != 0:\n",
        "    yesCount += 1\n",
        "  FOYESCNT.append(yesCount)\n",
        "  yesCount = 0\n",
        "\n",
        "df[\"FOYESCNT\"] = FOYESCNT\n",
        "df.to_csv(\"sample.csv\", index=False)  #adds variable to csv\n",
        "\n",
        "#create FSYESCNT variable that determines the amount of times each person said 'Yes' on the FS#### questions (ITEMS 60)\n",
        "#Legend:  Number of 'Yes'\n",
        "\n",
        "FSYESCNT = []      #variable that will be added to csv\n",
        "yesCount = 0\n",
        "FSYESCNT_LMH = []\n",
        "\n",
        "for i in range(15500):\n",
        "  if df['FSSPORTX'][i] == 1:\n",
        "    yesCount += 1\n",
        "  if df['FSVOL'][i] == 1:\n",
        "    yesCount += 1\n",
        "  if df['FSMTNG'][i] == 1:\n",
        "    yesCount += 1\n",
        "  if df['FSPTMTNG'][i] == 1:\n",
        "    yesCount += 1\n",
        "  if df['FSATCNFN'][i] == 1:\n",
        "    yesCount += 1\n",
        "  if df['FSFUNDRS'][i] == 1:\n",
        "    yesCount += 1\n",
        "  if df['FSCOMMTE'][i] == 1:\n",
        "    yesCount += 1\n",
        "  if df['FSCOUNSLR'][i] == 1:\n",
        "    yesCount += 1\n",
        "  FSYESCNT.append(yesCount)\n",
        "  if yesCount <= 3:\n",
        "    FSYESCNT_LMH.append('1) LOW INVOLVMENT')\n",
        "  elif yesCount > 3 and yesCount<=5:\n",
        "    FSYESCNT_LMH.append('2) MEDIUM INVOLVEMENT')\n",
        "  elif yesCount > 5:\n",
        "    FSYESCNT_LMH.append('3) HIGH INVOLVEMENT')\n",
        "  yesCount = 0\n",
        "\n",
        "df[\"FSYESCNT\"] = FSYESCNT\n",
        "df[\"FSYESCNT_LMH\"] = FSYESCNT_LMH\n",
        "\n",
        "df.to_csv(\"sample.csv\", index=False)  #adds variable to csv\n"
      ],
      "metadata": {
        "id": "GaWeR2yqUv9U"
      },
      "execution_count": 42,
      "outputs": []
    },
    {
      "cell_type": "code",
      "source": [
        "# delete all rows for students who answered 5 or -1\n",
        "'''\n",
        "df_clean = []\n",
        "for i in range(len(df)):\n",
        "  if !(df.SEGRADES[i] == -1 or df.SEGRADES[i] == 5):\n",
        "    df_clean.append(df[]) = df.drop(i)\n",
        "'''\n",
        "\n",
        "\n",
        "i = 0\n",
        "L = len(df.SEGRADES)\n",
        "while i < L:\n",
        "  if (df.SEGRADES[i] == -1) or (df.SEGRADES[i] == 5):\n",
        "    df = df.drop(i)\n",
        "  i+=1\n"
      ],
      "metadata": {
        "id": "oBoTz9NFhUGv"
      },
      "execution_count": 43,
      "outputs": []
    },
    {
      "cell_type": "code",
      "source": [
        "print(df['SEGRADES'])\n"
      ],
      "metadata": {
        "id": "0XStgDp4kI_m",
        "outputId": "30d53ad6-516e-42ff-da6f-fa013090eae6",
        "colab": {
          "base_uri": "https://localhost:8080/"
        }
      },
      "execution_count": 44,
      "outputs": [
        {
          "output_type": "stream",
          "name": "stdout",
          "text": [
            "0        1\n",
            "2        3\n",
            "3        1\n",
            "4        1\n",
            "6        1\n",
            "        ..\n",
            "15494    4\n",
            "15495    1\n",
            "15497    1\n",
            "15498    1\n",
            "15499    2\n",
            "Name: SEGRADES, Length: 13533, dtype: int64\n"
          ]
        }
      ]
    },
    {
      "cell_type": "code",
      "source": [
        "#Data Pre-Processing\n",
        "from pandas.api.types import CategoricalDtype\n",
        "cat_type = CategoricalDtype(categories=[1,2,3,4], ordered=True)\n",
        "df[\"SEGRADES\"] = df[\"SEGRADES\"].astype(cat_type)\n",
        "df[\"SEGRADES\"].dtype"
      ],
      "metadata": {
        "colab": {
          "base_uri": "https://localhost:8080/"
        },
        "id": "DaxTXKxXWiu3",
        "outputId": "a12c5602-a608-484f-e61b-b8f08f3642e5"
      },
      "execution_count": 45,
      "outputs": [
        {
          "output_type": "execute_result",
          "data": {
            "text/plain": [
              "CategoricalDtype(categories=[1, 2, 3, 4], ordered=True)"
            ]
          },
          "metadata": {},
          "execution_count": 45
        }
      ]
    },
    {
      "cell_type": "code",
      "source": [
        "from statsmodels.miscmodels.ordinal_model import OrderedModel"
      ],
      "metadata": {
        "id": "hteLBeDTb3v3"
      },
      "execution_count": 46,
      "outputs": []
    },
    {
      "cell_type": "code",
      "source": [
        "from os import XATTR_CREATE\n",
        "#['HHPARN19X','FHPLACE','SEABSNT','FSYESCNT','SEGRADES','FOYESCNT','RACEETH','TTLHHINC']\n",
        "x = ['ALLGRADEX','EDCPUB','SEGRADEQ','FOYESCNT',\n",
        "     'SEABSNT','RACEETH','OWNRNTHB','SEFUTUREX']\n",
        "mod_prob = OrderedModel(df['SEGRADES'],\n",
        "                        df[x],\n",
        "                        distr='logit')\n",
        " \n",
        "res_log = mod_prob.fit(method='bfgs')\n",
        "res_log.summary()\n"
      ],
      "metadata": {
        "colab": {
          "base_uri": "https://localhost:8080/",
          "height": 552
        },
        "id": "tjc9hN_V0bYy",
        "outputId": "cb9248c1-70f7-44bf-fbea-d7e38f2afcf8"
      },
      "execution_count": 51,
      "outputs": [
        {
          "output_type": "stream",
          "name": "stdout",
          "text": [
            "Optimization terminated successfully.\n",
            "         Current function value: 0.640083\n",
            "         Iterations: 43\n",
            "         Function evaluations: 45\n",
            "         Gradient evaluations: 45\n"
          ]
        },
        {
          "output_type": "execute_result",
          "data": {
            "text/plain": [
              "<class 'statsmodels.iolib.summary.Summary'>\n",
              "\"\"\"\n",
              "                             OrderedModel Results                             \n",
              "==============================================================================\n",
              "Dep. Variable:               SEGRADES   Log-Likelihood:                -8662.2\n",
              "Model:                   OrderedModel   AIC:                         1.735e+04\n",
              "Method:            Maximum Likelihood   BIC:                         1.743e+04\n",
              "Date:                Fri, 28 Oct 2022                                         \n",
              "Time:                        22:00:36                                         \n",
              "No. Observations:               13533                                         \n",
              "Df Residuals:                   13522                                         \n",
              "Df Model:                          11                                         \n",
              "==============================================================================\n",
              "                 coef    std err          z      P>|z|      [0.025      0.975]\n",
              "------------------------------------------------------------------------------\n",
              "ALLGRADEX      0.0783      0.006     12.103      0.000       0.066       0.091\n",
              "EDCPUB        -0.3225      0.071     -4.564      0.000      -0.461      -0.184\n",
              "SEGRADEQ       2.2261      0.034     66.430      0.000       2.160       2.292\n",
              "FOYESCNT       0.0324      0.010      3.279      0.001       0.013       0.052\n",
              "SEABSNT        0.2942      0.035      8.358      0.000       0.225       0.363\n",
              "RACEETH        0.0995      0.016      6.097      0.000       0.068       0.132\n",
              "OWNRNTHB       0.3094      0.042      7.305      0.000       0.226       0.392\n",
              "SEFUTUREX     -0.2469      0.018    -13.655      0.000      -0.282      -0.211\n",
              "1/2            5.1476      0.195     26.410      0.000       4.766       5.530\n",
              "2/3            1.1590      0.014     80.072      0.000       1.131       1.187\n",
              "3/4            1.0459      0.027     38.395      0.000       0.993       1.099\n",
              "==============================================================================\n",
              "\"\"\""
            ],
            "text/html": [
              "<table class=\"simpletable\">\n",
              "<caption>OrderedModel Results</caption>\n",
              "<tr>\n",
              "  <th>Dep. Variable:</th>         <td>SEGRADES</td>      <th>  Log-Likelihood:    </th> <td> -8662.2</td> \n",
              "</tr>\n",
              "<tr>\n",
              "  <th>Model:</th>               <td>OrderedModel</td>    <th>  AIC:               </th> <td>1.735e+04</td>\n",
              "</tr>\n",
              "<tr>\n",
              "  <th>Method:</th>           <td>Maximum Likelihood</td> <th>  BIC:               </th> <td>1.743e+04</td>\n",
              "</tr>\n",
              "<tr>\n",
              "  <th>Date:</th>              <td>Fri, 28 Oct 2022</td>  <th>                     </th>     <td> </td>    \n",
              "</tr>\n",
              "<tr>\n",
              "  <th>Time:</th>                  <td>22:00:36</td>      <th>                     </th>     <td> </td>    \n",
              "</tr>\n",
              "<tr>\n",
              "  <th>No. Observations:</th>       <td> 13533</td>       <th>                     </th>     <td> </td>    \n",
              "</tr>\n",
              "<tr>\n",
              "  <th>Df Residuals:</th>           <td> 13522</td>       <th>                     </th>     <td> </td>    \n",
              "</tr>\n",
              "<tr>\n",
              "  <th>Df Model:</th>               <td>    11</td>       <th>                     </th>     <td> </td>    \n",
              "</tr>\n",
              "</table>\n",
              "<table class=\"simpletable\">\n",
              "<tr>\n",
              "      <td></td>         <th>coef</th>     <th>std err</th>      <th>z</th>      <th>P>|z|</th>  <th>[0.025</th>    <th>0.975]</th>  \n",
              "</tr>\n",
              "<tr>\n",
              "  <th>ALLGRADEX</th> <td>    0.0783</td> <td>    0.006</td> <td>   12.103</td> <td> 0.000</td> <td>    0.066</td> <td>    0.091</td>\n",
              "</tr>\n",
              "<tr>\n",
              "  <th>EDCPUB</th>    <td>   -0.3225</td> <td>    0.071</td> <td>   -4.564</td> <td> 0.000</td> <td>   -0.461</td> <td>   -0.184</td>\n",
              "</tr>\n",
              "<tr>\n",
              "  <th>SEGRADEQ</th>  <td>    2.2261</td> <td>    0.034</td> <td>   66.430</td> <td> 0.000</td> <td>    2.160</td> <td>    2.292</td>\n",
              "</tr>\n",
              "<tr>\n",
              "  <th>FOYESCNT</th>  <td>    0.0324</td> <td>    0.010</td> <td>    3.279</td> <td> 0.001</td> <td>    0.013</td> <td>    0.052</td>\n",
              "</tr>\n",
              "<tr>\n",
              "  <th>SEABSNT</th>   <td>    0.2942</td> <td>    0.035</td> <td>    8.358</td> <td> 0.000</td> <td>    0.225</td> <td>    0.363</td>\n",
              "</tr>\n",
              "<tr>\n",
              "  <th>RACEETH</th>   <td>    0.0995</td> <td>    0.016</td> <td>    6.097</td> <td> 0.000</td> <td>    0.068</td> <td>    0.132</td>\n",
              "</tr>\n",
              "<tr>\n",
              "  <th>OWNRNTHB</th>  <td>    0.3094</td> <td>    0.042</td> <td>    7.305</td> <td> 0.000</td> <td>    0.226</td> <td>    0.392</td>\n",
              "</tr>\n",
              "<tr>\n",
              "  <th>SEFUTUREX</th> <td>   -0.2469</td> <td>    0.018</td> <td>  -13.655</td> <td> 0.000</td> <td>   -0.282</td> <td>   -0.211</td>\n",
              "</tr>\n",
              "<tr>\n",
              "  <th>1/2</th>       <td>    5.1476</td> <td>    0.195</td> <td>   26.410</td> <td> 0.000</td> <td>    4.766</td> <td>    5.530</td>\n",
              "</tr>\n",
              "<tr>\n",
              "  <th>2/3</th>       <td>    1.1590</td> <td>    0.014</td> <td>   80.072</td> <td> 0.000</td> <td>    1.131</td> <td>    1.187</td>\n",
              "</tr>\n",
              "<tr>\n",
              "  <th>3/4</th>       <td>    1.0459</td> <td>    0.027</td> <td>   38.395</td> <td> 0.000</td> <td>    0.993</td> <td>    1.099</td>\n",
              "</tr>\n",
              "</table>"
            ]
          },
          "metadata": {},
          "execution_count": 51
        }
      ]
    },
    {
      "cell_type": "code",
      "source": [
        "predicted = res_log.model.predict(res_log.params, exog=df[x])\n",
        "predicted\n"
      ],
      "metadata": {
        "colab": {
          "base_uri": "https://localhost:8080/"
        },
        "id": "IyiShiUT5VCK",
        "outputId": "bf706d8e-9013-4527-d88e-ddda3395b8dd"
      },
      "execution_count": 52,
      "outputs": [
        {
          "output_type": "stream",
          "name": "stderr",
          "text": [
            "/usr/local/lib/python3.7/dist-packages/statsmodels/miscmodels/ordinal_model.py:419: FutureWarning: Support for multi-dimensional indexing (e.g. `obj[:, None]`) is deprecated and will be removed in a future version.  Convert to a numpy array before indexing instead.\n",
            "  xb = xb[:, None]\n"
          ]
        },
        {
          "output_type": "execute_result",
          "data": {
            "text/plain": [
              "array([[9.07238077e-01, 8.85560626e-02, 3.96062043e-03, 2.45240182e-04],\n",
              "       [1.72091022e-02, 2.80492866e-01, 5.81797695e-01, 1.20500337e-01],\n",
              "       [9.53895285e-01, 4.41121379e-02, 1.87663478e-03, 1.15942847e-04],\n",
              "       ...,\n",
              "       [5.30318681e-01, 4.34387531e-01, 3.31735029e-02, 2.12028495e-03],\n",
              "       [9.19521862e-01, 7.68757919e-02, 3.39241579e-03, 2.09929925e-04],\n",
              "       [1.22667869e-01, 6.49270317e-01, 2.11192626e-01, 1.68691887e-02]])"
            ]
          },
          "metadata": {},
          "execution_count": 52
        }
      ]
    },
    {
      "cell_type": "code",
      "source": [
        "pred_choice = predicted.argmax(1)\n",
        "print('Fraction of correct choice predictions')\n",
        "print((np.asarray(df['SEGRADES'].values.codes) == pred_choice).mean())\n"
      ],
      "metadata": {
        "id": "Jy64s5FJ6jjK",
        "outputId": "376594e2-017b-4267-8076-3a040a44d4fa",
        "colab": {
          "base_uri": "https://localhost:8080/"
        }
      },
      "execution_count": 53,
      "outputs": [
        {
          "output_type": "stream",
          "name": "stdout",
          "text": [
            "Fraction of correct choice predictions\n",
            "0.717948717948718\n"
          ]
        }
      ]
    },
    {
      "cell_type": "code",
      "source": [],
      "metadata": {
        "id": "7y-Gmhzck_vp"
      },
      "execution_count": null,
      "outputs": []
    }
  ]
}