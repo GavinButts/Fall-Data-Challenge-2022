{
  "nbformat": 4,
  "nbformat_minor": 0,
  "metadata": {
    "colab": {
      "provenance": [],
      "authorship_tag": "ABX9TyNICGQjMRf+We7rseo6U4+w",
      "include_colab_link": true
    },
    "kernelspec": {
      "name": "python3",
      "display_name": "Python 3"
    },
    "language_info": {
      "name": "python"
    }
  },
  "cells": [
    {
      "cell_type": "markdown",
      "metadata": {
        "id": "view-in-github",
        "colab_type": "text"
      },
      "source": [
        "<a href=\"https://colab.research.google.com/github/GavinButts/Fall-Data-Challenge-2022/blob/main/Code/CreatedVariables/TTLHHINCX.ipynb\" target=\"_parent\"><img src=\"https://colab.research.google.com/assets/colab-badge.svg\" alt=\"Open In Colab\"/></a>"
      ]
    },
    {
      "cell_type": "code",
      "execution_count": 17,
      "metadata": {
        "id": "eUHznJ9BT3Dh"
      },
      "outputs": [],
      "source": [
        "#make sure to import csv file into colab and change df = pd.read_csv(\"CuratedData.csv\") to reflect csv name\n",
        "\n",
        "import pandas as pd\n",
        "import matplotlib as plt\n",
        "import seaborn as sns\n",
        "from matplotlib.colors import ListedColormap\n",
        "\n",
        "#create a variable that holds the csv\n",
        "df = pd.read_csv(\"CuratedData.csv\")\n",
        "\n",
        "#length of csv\n",
        "dfLength = 15500"
      ]
    },
    {
      "cell_type": "code",
      "source": [
        "#create TTLHHINCX variable that determines total household income.\n",
        "#Legend:  0  <- Low ($40,000 and below)\n",
        "#Legend:  1  <- Medium Low ($40,000 - $75,000)\n",
        "#Legend:  2  <- Medium High ($75,000 - $150,000)\n",
        "#Legend:  3  <- High ($150,000 and above)\n",
        "\n",
        "TTLHHINCX = []      #variable that will be added to csv\n",
        "yesCount = 0\n",
        "for i in range(15500):\n",
        "  if df['TTLHHINC'][i] in [1,2,3,4]:\n",
        "    TTLHHINCX.append(0)\n",
        "  if df['TTLHHINC'][i] in [5,6,7]:\n",
        "    TTLHHINCX.append(1)\n",
        "  if df['TTLHHINC'][i] in [8,9]:\n",
        "    TTLHHINCX.append(2)\n",
        "  if df['TTLHHINC'][i] in [10,11,12]:\n",
        "    TTLHHINCX.append(3)\n",
        "\n",
        "df[\"TTLHHINCX\"] = TTLHHINCX\n",
        "df.to_csv(\"sample.csv\", index=False)  #adds variable to csv"
      ],
      "metadata": {
        "id": "E5U0XXjYUISA"
      },
      "execution_count": 18,
      "outputs": []
    },
    {
      "cell_type": "code",
      "source": [
        "#create TTLHHINCX variable that determines total household income.\n",
        "#Legend:  0  <- Low ($40,000 and below)\n",
        "#Legend:  1  <- Medium Low ($40,000 - $75,000)\n",
        "#Legend:  2  <- Medium High ($75,000 - $150,000)\n",
        "#Legend:  3  <- High ($150,000 and above)\n",
        "\n",
        "res = sns.countplot(x=TTLHHINCX, palette='flare')"
      ],
      "metadata": {
        "colab": {
          "base_uri": "https://localhost:8080/",
          "height": 265
        },
        "id": "wZjZYTCVXSYx",
        "outputId": "a3ed9a53-c290-4cbe-9d7e-78bfd30a86bc"
      },
      "execution_count": 21,
      "outputs": [
        {
          "output_type": "display_data",
          "data": {
            "text/plain": [
              "<Figure size 432x288 with 1 Axes>"
            ],
            "image/png": "[encoded data removed]"
          },
          "metadata": {
            "needs_background": "light"
          }
        }
      ]
    }
  ]
}