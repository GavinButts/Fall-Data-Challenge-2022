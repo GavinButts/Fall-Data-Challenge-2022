{
  "nbformat": 4,
  "nbformat_minor": 0,
  "metadata": {
    "colab": {
      "provenance": [],
      "authorship_tag": "ABX9TyPtKOdrLI1ufi5FhogOp6YJ",
      "include_colab_link": true
    },
    "kernelspec": {
      "name": "python3",
      "display_name": "Python 3"
    },
    "language_info": {
      "name": "python"
    }
  },
  "cells": [
    {
      "cell_type": "markdown",
      "metadata": {
        "id": "view-in-github",
        "colab_type": "text"
      },
      "source": [
        "<a href=\"https://colab.research.google.com/github/GavinButts/Fall-Data-Challenge-2022/blob/main/Code/CreatedVariables/FSVALSKIP.ipynb\" target=\"_parent\"><img src=\"https://colab.research.google.com/assets/colab-badge.svg\" alt=\"Open In Colab\"/></a>"
      ]
    },
    {
      "cell_type": "code",
      "execution_count": 5,
      "metadata": {
        "id": "vNzZBdJbEi31"
      },
      "outputs": [],
      "source": [
        "#make sure to import csv file into colab and change df = pd.read_csv(\"CuratedData.csv\") to reflect csv name\n",
        "\n",
        "import pandas as pd\n",
        "import matplotlib as plt\n",
        "import seaborn as sns\n",
        "\n",
        "#create a variable that holds the csv\n",
        "df = pd.read_csv(\"CuratedData.csv\")\n",
        "\n",
        "#length of csv\n",
        "dfLength = 15500"
      ]
    },
    {
      "cell_type": "code",
      "source": [
        "#create FSVALSKIP variable that determines if the ID number used a valid skip on FS#### questions\n",
        "#Legend:  0 <- Answered the question\n",
        "#Legend:  1 <- Skipped the question\n",
        "\n",
        "\n",
        "skipID = []         #holds ID of people who voted valid skip\n",
        "FSVALSKIP = []      #variable that will be added to csv\n",
        "\n",
        "for i in range(15500):\n",
        "  if df['FSSPORTX'][i] == -1:\n",
        "    FSVALSKIP.append(1)\n",
        "    skipID.append(df['BASMID'][i])\n",
        "  else:\n",
        "    FSVALSKIP.append(0)\n",
        "\n",
        "df[\"FSVALSKIP\"] = FSVALSKIP\n",
        "df.to_csv(\"sample.csv\", index=False)  #adds variable to csv"
      ],
      "metadata": {
        "id": "ZEPADQ4uFdeX"
      },
      "execution_count": 6,
      "outputs": []
    },
    {
      "cell_type": "code",
      "source": [
        "#Question: Did you use a valid skip on questions starting in FS\n",
        "#Legend:  0 <- Answered the question\n",
        "#Legend:  1 <- Skipped the question\n",
        "\n",
        "ALLGRADEX = []\n",
        "\n",
        "for element in df[\"FSVALSKIP\"]:\n",
        "    ALLGRADEX.append(element)\n",
        "\n",
        "res = sns.countplot(x=ALLGRADEX, palette=\"pastel\")"
      ],
      "metadata": {
        "colab": {
          "base_uri": "https://localhost:8080/",
          "height": 267
        },
        "id": "JcqwPfP5GFoZ",
        "outputId": "a1b34058-30fb-49b4-9dad-9df29130fcf7"
      },
      "execution_count": 8,
      "outputs": [
        {
          "output_type": "display_data",
          "data": {
            "text/plain": [
              "<Figure size 432x288 with 1 Axes>"
            ],
            "image/png": "[encoded data removed]"
          },
          "metadata": {
            "needs_background": "light"
          }
        }
      ]
    },
    {
      "cell_type": "code",
      "source": [
        "#FSVALSKIP\n",
        "#Question: Did you use a valid skip on questions starting in FS\n",
        "#Legend:  0 <- Answered the question\n",
        "#Legend:  1 <- Skipped the question\n",
        "\n",
        "\n",
        "#TTLHHINC\n",
        "#Question: Which category best fits the total income of all persons in your household over the past 12 months?\n",
        "#Legend:  1  <- $0 to $10,000\n",
        "#Legend:  2  <- $10,001 to $20,000\n",
        "#Legend:  3  <- $20,001 to $30,000\n",
        "#Legend:  4  <- $30,001 to $40,000\n",
        "#Legend:  5  <- $40,001 to $50,000\n",
        "#Legend:  6  <- $50,001 to $60,000\n",
        "#Legend:  7  <- $60,001 to $75,000\n",
        "#Legend:  8  <- $75,001 to $100,000\n",
        "#Legend:  9  <- $100,001 to $150,000\n",
        "#Legend:  10 <- $150,001 to $200,000\n",
        "#Legend:  11 <- $200,001 to $250,000\n",
        "#Legend:  12 <- $250,001 or more\n",
        "\n",
        "\n",
        "\n",
        "crosstb = pd.crosstab(df.TTLHHINC, df.FSVALSKIP)\n",
        "barplot = crosstb.plot.bar(rot=0)\n",
        "dictTTLHHINCtab = {1:0,\n",
        "                2:0,\n",
        "                3:0,\n",
        "                4:0,\n",
        "                5:0,\n",
        "                6:0,\n",
        "                7:0,\n",
        "                8:0,\n",
        "                9:0,\n",
        "                10:0,\n",
        "                11:0,\n",
        "                12:0}\n",
        "\n",
        "dictTTLHHINC = {1:0,\n",
        "                2:0,\n",
        "                3:0,\n",
        "                4:0,\n",
        "                5:0,\n",
        "                6:0,\n",
        "                7:0,\n",
        "                8:0,\n",
        "                9:0,\n",
        "                10:0,\n",
        "                11:0,\n",
        "                12:0}\n",
        "\n",
        "dictTTLHHINCweighted = {1:0,\n",
        "                2:0,\n",
        "                3:0,\n",
        "                4:0,\n",
        "                5:0,\n",
        "                6:0,\n",
        "                7:0,\n",
        "                8:0,\n",
        "                9:0,\n",
        "                10:0,\n",
        "                11:0,\n",
        "                12:0}\n",
        "\n",
        "for i in range(dfLength):\n",
        "  if df['FSVALSKIP'][i] == 1:\n",
        "    tempInc = dictTTLHHINCtab[df['TTLHHINC'][i]]\n",
        "    tempInc += 1\n",
        "    dictTTLHHINCtab[df['TTLHHINC'][i]] = tempInc\n",
        "\n",
        "for i in range(dfLength):\n",
        "  tempInc = dictTTLHHINC[df['TTLHHINC'][i]]\n",
        "  tempInc += 1\n",
        "  dictTTLHHINC[df['TTLHHINC'][i]] = tempInc\n",
        "\n",
        "for i in range(1,13):\n",
        "  dictTTLHHINCweighted[i] = dictTTLHHINC[i] / dictTTLHHINCtab[i]\n",
        "\n",
        "for i in range(1,13):\n",
        "  print(\"For every person who skipped FS variables in income bracket\", i, \", there are\", dictTTLHHINCweighted[i], \"people in the income bracket\")"
      ],
      "metadata": {
        "colab": {
          "base_uri": "https://localhost:8080/",
          "height": 503
        },
        "id": "oUt5xdmpGp1y",
        "outputId": "8c8d1e12-2523-45c7-a842-0f03b0d427b2"
      },
      "execution_count": 24,
      "outputs": [
        {
          "output_type": "stream",
          "name": "stdout",
          "text": [
            "For every person who skipped FS variables in income bracket 1 , there are 40.93333333333333 people in the income bracket\n",
            "For every person who skipped FS variables in income bracket 2 , there are 66.16666666666667 people in the income bracket\n",
            "For every person who skipped FS variables in income bracket 3 , there are 76.07142857142857 people in the income bracket\n",
            "For every person who skipped FS variables in income bracket 4 , there are 111.2 people in the income bracket\n",
            "For every person who skipped FS variables in income bracket 5 , there are 63.25 people in the income bracket\n",
            "For every person who skipped FS variables in income bracket 6 , there are 161.5 people in the income bracket\n",
            "For every person who skipped FS variables in income bracket 7 , there are 168.75 people in the income bracket\n",
            "For every person who skipped FS variables in income bracket 8 , there are 219.6 people in the income bracket\n",
            "For every person who skipped FS variables in income bracket 9 , there are 202.42857142857142 people in the income bracket\n",
            "For every person who skipped FS variables in income bracket 10 , there are 118.53846153846153 people in the income bracket\n",
            "For every person who skipped FS variables in income bracket 11 , there are 244.33333333333334 people in the income bracket\n",
            "For every person who skipped FS variables in income bracket 12 , there are 256.0 people in the income bracket\n"
          ]
        },
        {
          "output_type": "display_data",
          "data": {
            "text/plain": [
              "<Figure size 432x288 with 1 Axes>"
            ],
            "image/png": "[encoded data removed]"
          },
          "metadata": {
            "needs_background": "light"
          }
        }
      ]
    },
    {
      "cell_type": "code",
      "source": [
        "#FSVALSKIP\n",
        "#Question: Did you use a valid skip on questions starting in FS\n",
        "#Legend:  0 <- Answered the question\n",
        "#Legend:  1 <- Skipped the question\n",
        "\n",
        "\n",
        "#CENREG\n",
        "#Question: Census region where child lives\n",
        "#Legend:  1 <- Northeast\n",
        "#Legend:  2 <- South\n",
        "#Legend:  3 <- Midwest\n",
        "#Legend:  4 <- West\n",
        "\n",
        "\n",
        "crosstb = pd.crosstab(df.CENREG, df.FSVALSKIP)\n",
        "barplot = crosstb.plot.bar(rot=0)\n",
        "dictCENREGtab = {1:0,\n",
        "                2:0,\n",
        "                3:0,\n",
        "                4:0}\n",
        "\n",
        "dictCENREG = {1:0,\n",
        "                2:0,\n",
        "                3:0,\n",
        "                4:0}\n",
        "\n",
        "dictCENREGweighted = {1:0,\n",
        "                2:0,\n",
        "                3:0,\n",
        "                4:0}\n",
        "\n",
        "for i in range(dfLength):\n",
        "  if df['FSVALSKIP'][i] == 1:\n",
        "    tempReg = dictCENREGtab[df['CENREG'][i]]\n",
        "    tempReg += 1\n",
        "    dictCENREGtab[df['CENREG'][i]] = tempReg\n",
        "\n",
        "for i in range(dfLength):\n",
        "  tempReg = dictCENREG[df['CENREG'][i]]\n",
        "  tempReg += 1\n",
        "  dictCENREG[df['CENREG'][i]] = tempReg\n",
        "\n",
        "for i in range(1,5):\n",
        "  dictCENREGweighted[i] = dictCENREG[i] / dictCENREGtab[i]\n",
        "  print(\"For every person who skipped FS variables in region\", i, \", there are\", dictTTLHHINCweighted[i], \"people in the region\")"
      ],
      "metadata": {
        "colab": {
          "base_uri": "https://localhost:8080/",
          "height": 347
        },
        "id": "Qg9M1Q6KJ_PG",
        "outputId": "1cc78435-8ac3-42d1-b0af-382dfbd86c98"
      },
      "execution_count": 27,
      "outputs": [
        {
          "output_type": "stream",
          "name": "stdout",
          "text": [
            "For every person who skipped FS variables in region 1 , there are 40.93333333333333 people in the region\n",
            "For every person who skipped FS variables in region 2 , there are 66.16666666666667 people in the region\n",
            "For every person who skipped FS variables in region 3 , there are 76.07142857142857 people in the region\n",
            "For every person who skipped FS variables in region 4 , there are 111.2 people in the region\n"
          ]
        },
        {
          "output_type": "display_data",
          "data": {
            "text/plain": [
              "<Figure size 432x288 with 1 Axes>"
            ],
            "image/png": "[encoded data removed]"
          },
          "metadata": {
            "needs_background": "light"
          }
        }
      ]
    },
    {
      "cell_type": "code",
      "source": [
        "#FSVALSKIP\n",
        "#Question: Did you use a valid skip on questions starting in FS\n",
        "#Legend:  0 <- Answered the question\n",
        "#Legend:  1 <- Skipped the question\n",
        "\n",
        "\n",
        "#SEGRADES\n",
        "#Question: Please tell us about this child’s grades during this school year. Overall, across all subjects, what grades does this child get?\n",
        "#Legend:  1 <- Mostly A's\n",
        "#Legend:  2 <- Mostly B's\n",
        "#Legend:  3 <- Mostly C's\n",
        "#Legend:  4 <- Mostly D's or lower\n",
        "#Legend:  5 <- School does not give grades\n",
        "\n",
        "crosstb = pd.crosstab(df.SEGRADES, df.FSVALSKIP)\n",
        "barplot = crosstb.plot.bar(rot=0)\n",
        "dictSEGRADEStab = {-1:0,\n",
        "                1:0,\n",
        "                2:0,\n",
        "                3:0,\n",
        "                4:0,\n",
        "                5:0}\n",
        "\n",
        "dictSEGRADES = {-1:0,\n",
        "                1:0,\n",
        "                2:0,\n",
        "                3:0,\n",
        "                4:0,\n",
        "                5:0}\n",
        "\n",
        "dictSEGRADESweighted = {-1:0,\n",
        "                1:0,\n",
        "                2:0,\n",
        "                3:0,\n",
        "                4:0,\n",
        "                5:0}\n",
        "\n",
        "for i in range(dfLength):\n",
        "  if df['FSVALSKIP'][i] == 1:\n",
        "    tempReg = dictSEGRADEStab[df['SEGRADES'][i]]\n",
        "    tempReg += 1\n",
        "    dictSEGRADEStab[df['SEGRADES'][i]] = tempReg\n",
        "\n",
        "print(dictSEGRADEStab)\n",
        "\n",
        "for i in range(dfLength):\n",
        "  tempReg = dictSEGRADES[df['SEGRADES'][i]]\n",
        "  tempReg += 1\n",
        "  dictSEGRADES[df['SEGRADES'][i]] = tempReg\n",
        "\n",
        "\n",
        "for i in range(1,6):\n",
        "  dictSEGRADESweighted[i] = dictSEGRADES[i] / dictSEGRADEStab[i]\n",
        "  print(\"For every person who skipped FS variables in region\", i, \", there are\", dictTTLHHINCweighted[i], \"people in the region\")\n"
      ],
      "metadata": {
        "colab": {
          "base_uri": "https://localhost:8080/",
          "height": 381
        },
        "id": "5CHzF1GNP4S-",
        "outputId": "a6e37a38-9f99-4cbb-986f-f3436850a2a8"
      },
      "execution_count": 35,
      "outputs": [
        {
          "output_type": "stream",
          "name": "stdout",
          "text": [
            "{-1: 2, 1: 45, 2: 52, 3: 14, 4: 5, 5: 8}\n",
            "For every person who skipped FS variables in region 1 , there are 40.93333333333333 people in the region\n",
            "For every person who skipped FS variables in region 2 , there are 66.16666666666667 people in the region\n",
            "For every person who skipped FS variables in region 3 , there are 76.07142857142857 people in the region\n",
            "For every person who skipped FS variables in region 4 , there are 111.2 people in the region\n",
            "For every person who skipped FS variables in region 5 , there are 63.25 people in the region\n"
          ]
        },
        {
          "output_type": "display_data",
          "data": {
            "text/plain": [
              "<Figure size 432x288 with 1 Axes>"
            ],
            "image/png": "[encoded data removed]"
          },
          "metadata": {
            "needs_background": "light"
          }
        }
      ]
    }
  ]
}