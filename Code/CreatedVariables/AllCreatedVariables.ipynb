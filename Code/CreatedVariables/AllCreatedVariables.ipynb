{
  "nbformat": 4,
  "nbformat_minor": 0,
  "metadata": {
    "colab": {
      "provenance": [],
      "authorship_tag": "ABX9TyPSVGt24BMtOpszmSK2Lznv",
      "include_colab_link": true
    },
    "kernelspec": {
      "name": "python3",
      "display_name": "Python 3"
    },
    "language_info": {
      "name": "python"
    }
  },
  "cells": [
    {
      "cell_type": "markdown",
      "metadata": {
        "id": "view-in-github",
        "colab_type": "text"
      },
      "source": [
        "<a href=\"https://colab.research.google.com/github/GavinButts/Fall-Data-Challenge-2022/blob/main/Code/CreatedVariables/AllCreatedVariables.ipynb\" target=\"_parent\"><img src=\"https://colab.research.google.com/assets/colab-badge.svg\" alt=\"Open In Colab\"/></a>"
      ]
    },
    {
      "cell_type": "code",
      "execution_count": 1,
      "metadata": {
        "id": "q6WUX6uTOnhG"
      },
      "outputs": [],
      "source": [
        "#make sure to import csv file into colab and change df = pd.read_csv(\"CuratedData.csv\") to reflect csv name\n",
        "\n",
        "import pandas as pd\n",
        "import matplotlib as plt\n",
        "import seaborn as sns\n",
        "\n",
        "#create a variable that holds the csv\n",
        "df = pd.read_csv(\"CuratedData.csv\")\n",
        "\n",
        "#length of csv\n",
        "dfLength = 15500"
      ]
    },
    {
      "cell_type": "code",
      "source": [
        "#create FSVALSKIP variable that determines if the ID number used a valid skip on FS#### questions\n",
        "#Legend:  0 <- Answered the question\n",
        "#Legend:  1 <- Skipped the question\n",
        "\n",
        "\n",
        "skipID = []         #holds ID of people who voted valid skip\n",
        "FSVALSKIP = []      #variable that will be added to csv\n",
        "\n",
        "for i in range(15500):\n",
        "  if df['FSSPORTX'][i] == -1:\n",
        "    FSVALSKIP.append(1)\n",
        "    skipID.append(df['BASMID'][i])\n",
        "  else:\n",
        "    FSVALSKIP.append(0)\n",
        "\n",
        "df[\"FSVALSKIP\"] = FSVALSKIP\n",
        "df.to_csv(\"sample.csv\", index=False)  #adds variable to csv"
      ],
      "metadata": {
        "id": "yftxAuWnOvTz"
      },
      "execution_count": 2,
      "outputs": []
    },
    {
      "cell_type": "code",
      "source": [
        "#create FOYESCNT variable that determines the amount of times each person said 'Yes' on the FO#### questions (ITEMS 72-74)\n",
        "#Legend:  Number of 'Yes'\n",
        "\n",
        "FOYESCNT = []      #variable that will be added to csv\n",
        "yesCount = 0\n",
        "for i in range(15500):\n",
        "  if df['FOSTORY2X'][i] == 1:\n",
        "    yesCount += 1\n",
        "  if df['FOCRAFTS'][i] == 1:\n",
        "    yesCount += 1\n",
        "  if df['FOGAMES'][i] == 1:\n",
        "    yesCount += 1\n",
        "  if df['FOBUILDX'][i] == 1:\n",
        "    yesCount += 1\n",
        "  if df['FOSPORT'][i] == 1:\n",
        "    yesCount += 1\n",
        "  if df['FORESPON'][i] == 1:\n",
        "    yesCount += 1\n",
        "  if df['FOHISTX'][i] == 1:\n",
        "    yesCount += 1\n",
        "  if df['FOLIBRAYX'][i] == 1:\n",
        "    yesCount += 1\n",
        "  if df['FOBOOKSTX'][i] == 1:\n",
        "    yesCount += 1\n",
        "  if df['FODINNERX'][i] != 0:\n",
        "    yesCount += 1\n",
        "  FOYESCNT.append(yesCount)\n",
        "  yesCount = 0\n",
        "\n",
        "df[\"FOYESCNT\"] = FOYESCNT\n",
        "df.to_csv(\"sample.csv\", index=False)  #adds variable to csv"
      ],
      "metadata": {
        "id": "7AVh2U0YOz3h"
      },
      "execution_count": 3,
      "outputs": []
    },
    {
      "cell_type": "code",
      "source": [
        "#create FSYESCNT variable that determines the amount of times each person said 'Yes' on the FS#### questions (ITEMS 60)\n",
        "#Legend:  Number of 'Yes'\n",
        "\n",
        "FSYESCNT = []      #variable that will be added to csv\n",
        "yesCount = 0\n",
        "for i in range(15500):\n",
        "  if df['FSSPORTX'][i] == 1:\n",
        "    yesCount += 1\n",
        "  if df['FSVOL'][i] == 1:\n",
        "    yesCount += 1\n",
        "  if df['FSMTNG'][i] == 1:\n",
        "    yesCount += 1\n",
        "  if df['FSPTMTNG'][i] == 1:\n",
        "    yesCount += 1\n",
        "  if df['FSATCNFN'][i] == 1:\n",
        "    yesCount += 1\n",
        "  if df['FSFUNDRS'][i] == 1:\n",
        "    yesCount += 1\n",
        "  if df['FSCOMMTE'][i] == 1:\n",
        "    yesCount += 1\n",
        "  if df['FSCOUNSLR'][i] == 1:\n",
        "    yesCount += 1\n",
        "  FSYESCNT.append(yesCount)\n",
        "  yesCount = 0\n",
        "\n",
        "df[\"FSYESCNT\"] = FSYESCNT\n",
        "df.to_csv(\"sample.csv\", index=False)  #adds variable to csv"
      ],
      "metadata": {
        "id": "0O9rqRnyO4VL"
      },
      "execution_count": 4,
      "outputs": []
    }
  ]
}