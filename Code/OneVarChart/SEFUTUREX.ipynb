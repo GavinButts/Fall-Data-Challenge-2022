{
  "nbformat": 4,
  "nbformat_minor": 0,
  "metadata": {
    "colab": {
      "provenance": [],
      "authorship_tag": "ABX9TyPV7s68XmvfBnTTLxlUkpgx",
      "include_colab_link": true
    },
    "kernelspec": {
      "name": "python3",
      "display_name": "Python 3"
    },
    "language_info": {
      "name": "python"
    }
  },
  "cells": [
    {
      "cell_type": "markdown",
      "metadata": {
        "id": "view-in-github",
        "colab_type": "text"
      },
      "source": [
        "<a href=\"https://colab.research.google.com/github/GavinButts/Fall-Data-Challenge-2022/blob/main/Code/OneVarChart/SEFUTUREX.ipynb\" target=\"_parent\"><img src=\"https://colab.research.google.com/assets/colab-badge.svg\" alt=\"Open In Colab\"/></a>"
      ]
    },
    {
      "cell_type": "code",
      "execution_count": 1,
      "metadata": {
        "id": "KlaIb6yc6N9-"
      },
      "outputs": [],
      "source": [
        "import pandas as pd\n",
        "import matplotlib as plt\n",
        "import seaborn as sns"
      ]
    },
    {
      "cell_type": "code",
      "source": [
        "#Question: How far do you expect this child to go in his or her education?\n",
        "#Legend:  1  <- Complete less than a high school diploma\n",
        "#Legend:  2  <- Graduate from high school\n",
        "#Legend:  3  <- Attend a vocational or technical school after high school\n",
        "#Legend:  4  <- Attend two or more years of college\n",
        "#Legend:  5  <- Earn a Bachelor’s degree\n",
        "#Legend:  6  <- Earn a graduate degree or professional degree beyond a bachelor’s\n",
        "\n",
        "csv = pd.read_csv('CuratedData.csv')\n",
        "SEFUTUREX = []\n",
        "for element in csv[\"SEFUTUREX\"]:\n",
        "    if element != -1:\n",
        "       SEFUTUREX.append(element)\n",
        "        \n",
        "res = sns.countplot(x=SEFUTUREX, palette=\"pastel\")"
      ],
      "metadata": {
        "colab": {
          "base_uri": "https://localhost:8080/",
          "height": 265
        },
        "id": "nj6dhA8Y6PCn",
        "outputId": "15863f27-fed8-4c4f-9d3c-d4cc80f4fab1"
      },
      "execution_count": 2,
      "outputs": [
        {
          "output_type": "display_data",
          "data": {
            "text/plain": [
              "<Figure size 432x288 with 1 Axes>"
            ],
            "image/png": "[encoded data removed]"
          },
          "metadata": {
            "needs_background": "light"
          }
        }
      ]
    }
  ]
}